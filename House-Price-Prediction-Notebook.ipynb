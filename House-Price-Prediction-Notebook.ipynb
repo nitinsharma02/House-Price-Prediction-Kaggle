{
 "cells": [
  {
   "cell_type": "markdown",
   "metadata": {
    "_uuid": "ad2771924061e174aaa49fa102d5ec8343777799"
   },
   "source": [
    " **House Prices Prediction Simple Model**"
   ]
  },
  {
   "cell_type": "markdown",
   "metadata": {
    "_uuid": "e5ee2a2184b315770e8641d19c340746325a7d7f"
   },
   "source": [
    "This kernel is a basic approach to prediction of House Prices for the given dataset.\n",
    "\n",
    "Importing the necessary packages."
   ]
  },
  {
   "cell_type": "code",
   "execution_count": null,
   "metadata": {
    "_cell_guid": "b1076dfc-b9ad-4769-8c92-a6c4dae69d19",
    "_uuid": "8f2839f25d086af736a60e9eeb907d3b93b6e0e5"
   },
   "outputs": [],
   "source": [
    "# This Python 3 environment comes with many helpful analytics libraries installed\n",
    "# It is defined by the kaggle/python docker image: https://github.com/kaggle/docker-python\n",
    "# For example, here's several helpful packages to load in \n",
    "\n",
    "import numpy as np # linear algebra\n",
    "import pandas as pd # data processing, CSV file I/O (e.g. pd.read_csv)\n",
    "import matplotlib.pyplot as plt\n",
    "%matplotlib inline\n",
    "import seaborn as sns\n",
    "from sklearn.linear_model import LinearRegression, Lasso\n",
    "from sklearn.preprocessing import LabelEncoder, RobustScaler\n",
    "from sklearn.model_selection import GridSearchCV,KFold,cross_val_score\n",
    "from sklearn.ensemble import GradientBoostingRegressor\n",
    "from sklearn.pipeline import make_pipeline\n",
    "from scipy.stats import skew\n",
    "from scipy.special import boxcox1p\n",
    "# Input data files are available in the \"../input/\" directory.\n",
    "# For example, running this (by clicking run or pressing Shift+Enter) will list the files in the input directory\n",
    "\n",
    "import os\n",
    "print(os.listdir(\"./input\"))\n",
    "\n",
    "# Any results you write to the current directory are saved as output."
   ]
  },
  {
   "cell_type": "markdown",
   "metadata": {
    "_uuid": "fa692a2c33b7eb9cde62eae0a3d7a90879346682"
   },
   "source": [
    "**Reading the dataset**"
   ]
  },
  {
   "cell_type": "code",
   "execution_count": null,
   "metadata": {
    "_cell_guid": "79c7e3d0-c299-4dcb-8224-4455121ee9b0",
    "_uuid": "d629ff2d2480ee46fbb7e2d37f6b5fab8052498a"
   },
   "outputs": [],
   "source": [
    "X=pd.read_csv(\"./input/train.csv\")\n",
    "X_test=pd.read_csv(\"./input/test.csv\")\n",
    "X.head()"
   ]
  },
  {
   "cell_type": "code",
   "execution_count": null,
   "metadata": {
    "_uuid": "c19c0f54fe0f5d19a5214c641daef79dbf6f7cd2"
   },
   "outputs": [],
   "source": [
    "X_test.head()"
   ]
  },
  {
   "cell_type": "code",
   "execution_count": null,
   "metadata": {
    "_uuid": "95e9ea69bd9b985bb6ef763646c8b2d926d3863a"
   },
   "outputs": [],
   "source": [
    "X.shape,X_test.shape"
   ]
  },
  {
   "cell_type": "markdown",
   "metadata": {
    "_uuid": "47520fa7556967ee08ec69f9c7508f0e16e33e7d"
   },
   "source": [
    "**Steps to create the model :-**\n",
    "* Filling missing values\n",
    "* Labeling, creating dummies and feature engineering\n",
    "* Modelling"
   ]
  },
  {
   "cell_type": "markdown",
   "metadata": {
    "_uuid": "0a739c0574b3ecd8a7c6a4f5e619604810a14da6"
   },
   "source": [
    "**Filling missing values**"
   ]
  },
  {
   "cell_type": "markdown",
   "metadata": {
    "_uuid": "823b895b1e14cb7d67245da42b84ad9f00b1e7ba"
   },
   "source": [
    "Columns with missing values"
   ]
  },
  {
   "cell_type": "code",
   "execution_count": null,
   "metadata": {
    "_uuid": "26d6ad2e9f33d23af310cfa34405d6d4f7be3909"
   },
   "outputs": [],
   "source": [
    "X.isnull().sum()[X.isnull().sum()>0]"
   ]
  },
  {
   "cell_type": "code",
   "execution_count": null,
   "metadata": {
    "_uuid": "965630eb0826fc405cd952a445554ab19178f443"
   },
   "outputs": [],
   "source": [
    "X_test.isnull().sum()[X_test.isnull().sum()>0]"
   ]
  },
  {
   "cell_type": "markdown",
   "metadata": {
    "_uuid": "e9cc197cb8590c822952e6a196c89d32d46c2db7"
   },
   "source": [
    "Correlation matrix of features highly correlated with SalePrice feature."
   ]
  },
  {
   "cell_type": "code",
   "execution_count": null,
   "metadata": {
    "_uuid": "ea54507ac837f46ea858edfe1f610b53fe8edfd5"
   },
   "outputs": [],
   "source": [
    "corr=X.corr()\n",
    "plt.figure(figsize=(10,10))\n",
    "sns.heatmap(X[corr.index[abs(corr['SalePrice'])>0.4]].corr(),annot=True)"
   ]
  },
  {
   "cell_type": "code",
   "execution_count": null,
   "metadata": {
    "_uuid": "d84392cc92099acdae6849625547ff5e1d93281e"
   },
   "outputs": [],
   "source": [
    "fillnull={ 'PoolQC':'NoPool', 'MiscFeature':'NoMisc', 'Alley':'NoAlley', 'Fence':'NoFence', 'FireplaceQu':'NoFire' }\n",
    "X.fillna(fillnull,inplace=True)\n",
    "X_test.fillna(fillnull,inplace=True)"
   ]
  },
  {
   "cell_type": "markdown",
   "metadata": {
    "_uuid": "1e559e20e1249d0ecffce36fcbb8d5f30a2fd421"
   },
   "source": [
    "Dropping data points with above grouund living area greater than 4000 square feet."
   ]
  },
  {
   "cell_type": "code",
   "execution_count": null,
   "metadata": {
    "_uuid": "615e5f27d5bdd545d88e807a0c16e2b95f8b849b"
   },
   "outputs": [],
   "source": [
    "X.drop(X[X.GrLivArea>4000].index.values,inplace=True)"
   ]
  },
  {
   "cell_type": "code",
   "execution_count": null,
   "metadata": {
    "_uuid": "947a665607b73c0681af5b1fa9ca68fb9bde2ce2"
   },
   "outputs": [],
   "source": [
    "plt.plot((X.LotArea)**0.5,X.LotFrontage,'.')\n",
    "plt.xlabel('LotArea')\n",
    "plt.ylabel('LotFrontage')"
   ]
  },
  {
   "cell_type": "code",
   "execution_count": null,
   "metadata": {
    "_uuid": "d769441333f61988ff43dfd7b1c25407624f122a"
   },
   "outputs": [],
   "source": [
    "X.drop(X[X.LotFrontage>300].index.values,inplace=True)\n",
    "X.drop(X[X.LotArea>100000].index.values,inplace=True)\n",
    "X.shape"
   ]
  },
  {
   "cell_type": "code",
   "execution_count": null,
   "metadata": {
    "_uuid": "f6fdb41e7ce7207d6858b4ad66a00d6d1c8b3308"
   },
   "outputs": [],
   "source": [
    "plt.plot((X.LotArea)**0.5,X.LotFrontage,'.')\n",
    "plt.xlabel('LotArea')\n",
    "plt.ylabel('LotFrontage')"
   ]
  },
  {
   "cell_type": "markdown",
   "metadata": {
    "_uuid": "18a3408c1129f159dd4a8445e3427c14eec628d4"
   },
   "source": [
    "Now filling missing missing values in LotFontage by linear regression between square root of LotArea and LotFrontage by using the logic that area is proportinal to square of length."
   ]
  },
  {
   "cell_type": "code",
   "execution_count": null,
   "metadata": {
    "_uuid": "50572b5392f4ca2113ac5b41859cd4f8104a5e5e"
   },
   "outputs": [],
   "source": [
    "reg=LinearRegression()\n",
    "reg.fit(((X[(X.LotArea<35000) & (X.LotFrontage<200)].LotArea)**0.5).values.reshape(-1,1),X[(X.LotArea<35000) & (X.LotFrontage<200)].LotFrontage.values)\n",
    "reg.intercept_,reg.coef_[0]"
   ]
  },
  {
   "cell_type": "code",
   "execution_count": null,
   "metadata": {
    "_uuid": "cba9c7d049109665b5fb3e9c16954dd2482bce45"
   },
   "outputs": [],
   "source": [
    "X.loc[X.LotFrontage.isnull(),'LotFrontage']=reg.predict((X[X.LotFrontage.isnull()].LotArea.values.reshape(-1,1))**0.5)\n",
    "X_test.loc[X_test.LotFrontage.isnull(),'LotFrontage']=reg.predict((X_test[X_test.LotFrontage.isnull()].LotArea.values.reshape(-1,1))**0.5)"
   ]
  },
  {
   "cell_type": "code",
   "execution_count": null,
   "metadata": {
    "_uuid": "a61c9810e7c82fc2dd101d702bcbaf73e56595bf"
   },
   "outputs": [],
   "source": [
    "X_test.GarageYrBlt.describe()"
   ]
  },
  {
   "cell_type": "markdown",
   "metadata": {
    "_uuid": "58d2a79a3bf526a313db62ca8f2d591b221c3010"
   },
   "source": [
    "Max value of Garbage Year Built is 2207 in test set which is not possible so correcting these values."
   ]
  },
  {
   "cell_type": "code",
   "execution_count": null,
   "metadata": {
    "_uuid": "473036919b1da23a64a5fb7343903f85c090f1b1"
   },
   "outputs": [],
   "source": [
    "X_test[X_test.GarageYrBlt>2018].GarageYrBlt"
   ]
  },
  {
   "cell_type": "code",
   "execution_count": null,
   "metadata": {
    "_uuid": "c832b41384949844152d0f3ce14f32e3026c273f"
   },
   "outputs": [],
   "source": [
    "X_test.GarageYrBlt.replace({2207:2007},inplace=True)"
   ]
  },
  {
   "cell_type": "code",
   "execution_count": null,
   "metadata": {
    "_uuid": "70a25ca12df29a9c872844deaebf491c02da69c5"
   },
   "outputs": [],
   "source": [
    "fillnull={ 'GarageType':'NoGarage', 'GarageFinish':'NoGarage', 'GarageQual':'NoGarage', 'GarageCond':'NoGarage', 'BsmtQual':'NoBsmt', 'BsmtCond':'NoBsmt', 'BsmtExposure':'NoBsmt', 'BsmtFinType1':'NoBsmt', 'BsmtFinType2':'NoBsmt' }\n",
    "X.fillna(fillnull,inplace=True)\n",
    "X_test.fillna(fillnull,inplace=True)"
   ]
  },
  {
   "cell_type": "code",
   "execution_count": null,
   "metadata": {
    "_uuid": "a9b94b760cdf102dfb1f3216a81ba7ade9cd3b64"
   },
   "outputs": [],
   "source": [
    "X.MasVnrType.fillna(\"None\",inplace=True)\n",
    "X_test.MasVnrType.fillna(\"None\",inplace=True)\n",
    "X.MasVnrArea.fillna(0,inplace=True)\n",
    "X_test.MasVnrArea.fillna(0,inplace=True)\n",
    "X.Electrical.fillna(\"SBrkr\",inplace=True)"
   ]
  },
  {
   "cell_type": "code",
   "execution_count": null,
   "metadata": {
    "_uuid": "d04704917a5012470a5676454fa654d52aafe10d"
   },
   "outputs": [],
   "source": [
    "fillwithmode=['MSZoning','Utilities','Exterior1st','Exterior2nd','KitchenQual','Functional','SaleType']\n",
    "for column in fillwithmode:\n",
    "    mode=X[column].mode()[0]\n",
    "    X_test[column].fillna(mode,inplace=True)\n",
    "fillwithzero=['BsmtFinSF1','BsmtFinSF2','BsmtUnfSF','TotalBsmtSF','BsmtFullBath','BsmtHalfBath']\n",
    "for column in fillwithzero:\n",
    "    X_test[column].fillna(0,inplace=True)\n",
    "fillwithmedian=['GarageArea','GarageCars']\n",
    "for column in fillwithmedian:\n",
    "    median=X[column].median()\n",
    "    X_test[column].fillna(median,inplace=True)\n",
    "X_test.isnull().sum()[X_test.isnull().sum()>0]"
   ]
  },
  {
   "cell_type": "code",
   "execution_count": null,
   "metadata": {
    "_uuid": "a0d304a2f570f93a2601e6338f20da55feff1979"
   },
   "outputs": [],
   "source": [
    "X.isnull().sum()[X.isnull().sum()>0]"
   ]
  },
  {
   "cell_type": "markdown",
   "metadata": {
    "_uuid": "9e15c60c3bba7f8ff46d1ca59e59f7e34a4e08e2"
   },
   "source": [
    "No need to fill GarageYrBlt column as it is similar to YearBuilt column except for the houses having no Garage, so we will drop this column in the end."
   ]
  },
  {
   "cell_type": "markdown",
   "metadata": {
    "_uuid": "f8d3db9d378c321f3a1b89f29a0fd79d22ea20ad"
   },
   "source": [
    "**Labeling, creating dummies and feature engineering**"
   ]
  },
  {
   "cell_type": "markdown",
   "metadata": {
    "_uuid": "ad94dd5cc67c09132a7a9044c2e9da54603d2915"
   },
   "source": [
    "In this part we will go through non numeric columns and labelling them in order of importance in case of cardinal featues, creating dummies in case of nominal featues. We will make new features and transforming wherever required."
   ]
  },
  {
   "cell_type": "code",
   "execution_count": null,
   "metadata": {
    "_uuid": "bbd180899c6f2e044d3ed61b78c9bffdbb4f8535"
   },
   "outputs": [],
   "source": [
    "le=LabelEncoder()\n",
    "dummies=pd.get_dummies(X.MSZoning,prefix='MSZoning')\n",
    "X=pd.concat([X,dummies],axis=1)\n",
    "dummies=pd.get_dummies(X_test.MSZoning,prefix='MSZoning')\n",
    "X_test=pd.concat([X_test,dummies],axis=1)\n",
    "X.loc[:,'Street']=le.fit_transform(X.Street.values)\n",
    "X_test.loc[:,'Street']=le.transform(X_test.Street.values)\n",
    "mapping={'NoAlley':0,'Grvl':1,'Pave':2}\n",
    "X.Alley.replace(mapping,inplace=True)\n",
    "X_test.Alley.replace(mapping,inplace=True)\n",
    "mapping={'IR3':0,'IR2':1,'IR1':2,'Reg':3}\n",
    "X.LotShape.replace(mapping,inplace=True)\n",
    "X_test.LotShape.replace(mapping,inplace=True)\n",
    "mapping={'Low':0,'HLS':1,'Bnk':2,'Lvl':3}\n",
    "X.LandContour.replace(mapping,inplace=True)\n",
    "X_test.LandContour.replace(mapping,inplace=True)\n",
    "X.drop('Utilities',axis=1,inplace=True)\n",
    "X_test.drop('Utilities',axis=1,inplace=True)\n",
    "dummies=pd.get_dummies(X.LotConfig,prefix='LotConfig')\n",
    "X=pd.concat([X,dummies],axis=1)\n",
    "dummies=pd.get_dummies(X_test.LotConfig,prefix='LotConfig')\n",
    "X_test=pd.concat([X_test,dummies],axis=1)\n",
    "X.loc[:,'LandSlope']=le.fit_transform(X.LandSlope.values)\n",
    "X_test.loc[:,'LandSlope']=le.transform(X_test.LandSlope.values)\n",
    "dummies=pd.get_dummies(X.Neighborhood,prefix='Neigh')\n",
    "X=pd.concat([X,dummies],axis=1)\n",
    "dummies=pd.get_dummies(X_test.Neighborhood,prefix='Neigh')\n",
    "X_test=pd.concat([X_test,dummies],axis=1)"
   ]
  },
  {
   "cell_type": "code",
   "execution_count": null,
   "metadata": {
    "_uuid": "073d923751e96132e5fc79f00d1ca790c49f4897"
   },
   "outputs": [],
   "source": [
    "dummies=pd.get_dummies(X.Condition1,prefix='Cond1')\n",
    "X=pd.concat([X,dummies],axis=1)\n",
    "dummies=pd.get_dummies(X_test.Condition1,prefix='Cond1')\n",
    "X_test=pd.concat([X_test,dummies],axis=1)\n",
    "dummies=pd.get_dummies(X.Condition2,prefix='Cond2')\n",
    "X=pd.concat([X,dummies],axis=1)\n",
    "X['Cond2_RRNe']=0\n",
    "dummies=pd.get_dummies(X_test.Condition2,prefix='Cond2')\n",
    "X_test=pd.concat([X_test,dummies],axis=1)\n",
    "X_test['Cond2_RRAe']=0\n",
    "X_test['Cond2_RRAn']=0\n",
    "X_test['Cond2_RRNn']=0\n",
    "X_test['Cond2_RRNe']=0\n",
    "conditions=X.Condition1.unique()\n",
    "for cond in conditions:\n",
    "    X['Cond_'+cond]=((X['Cond1_'+cond]+X['Cond2_'+cond])>0)*1\n",
    "    X_test['Cond_'+cond]=((X_test['Cond1_'+cond]+X_test['Cond2_'+cond])>0)*1\n",
    "    X.drop(['Cond1_'+cond,'Cond2_'+cond],axis=1,inplace=True)\n",
    "    X_test.drop(['Cond1_'+cond,'Cond2_'+cond],axis=1,inplace=True)"
   ]
  },
  {
   "cell_type": "code",
   "execution_count": null,
   "metadata": {
    "_uuid": "8ca9aecf27e838d1538e5904cc88214f0d237bd3"
   },
   "outputs": [],
   "source": [
    "dummies=pd.get_dummies(X.BldgType,prefix='BldgType')\n",
    "X=pd.concat([X,dummies],axis=1)\n",
    "dummies=pd.get_dummies(X_test.BldgType,prefix='BldgType')\n",
    "X_test=pd.concat([X_test,dummies],axis=1)\n",
    "dummies=pd.get_dummies(X.HouseStyle,prefix='HouseStyle')\n",
    "X=pd.concat([X,dummies],axis=1)\n",
    "dummies=pd.get_dummies(X_test.HouseStyle,prefix='HouseStyle')\n",
    "dummies['HouseStyle_2.5Fin']=0\n",
    "dummies.sort_index(axis=1,inplace=True)\n",
    "X_test=pd.concat([X_test,dummies],axis=1)\n",
    "dummies=pd.get_dummies(X.RoofStyle,prefix='RoofStyle')\n",
    "X=pd.concat([X,dummies],axis=1)\n",
    "dummies=pd.get_dummies(X_test.RoofStyle,prefix='RoofStyle')\n",
    "X_test=pd.concat([X_test,dummies],axis=1)\n",
    "dummies=pd.get_dummies(X.RoofMatl,prefix='RoofMatl')\n",
    "X=pd.concat([X,dummies],axis=1)\n",
    "dummies=pd.get_dummies(X_test.RoofMatl,prefix='RoofMatl')\n",
    "dummies['RoofMatl_Roll']=0\n",
    "dummies['RoofMatl_Membran']=0\n",
    "dummies['RoofMatl_Metal']=0\n",
    "dummies.sort_index(axis=1,inplace=True)\n",
    "X_test=pd.concat([X_test,dummies],axis=1)"
   ]
  },
  {
   "cell_type": "code",
   "execution_count": null,
   "metadata": {
    "_uuid": "490b147d65b39fd9e2836d5f91337f710956864b"
   },
   "outputs": [],
   "source": [
    "X.Exterior1st.unique()"
   ]
  },
  {
   "cell_type": "code",
   "execution_count": null,
   "metadata": {
    "_uuid": "a4b5ddfcc37001e2cf9d8fe4870ee114f7a78d6c"
   },
   "outputs": [],
   "source": [
    "X_test.Exterior1st.unique()"
   ]
  },
  {
   "cell_type": "code",
   "execution_count": null,
   "metadata": {
    "_uuid": "28b45f5fb4fd9570786c22bd0ea7bb1e9ad7941b"
   },
   "outputs": [],
   "source": [
    "X.Exterior2nd.unique()"
   ]
  },
  {
   "cell_type": "code",
   "execution_count": null,
   "metadata": {
    "_uuid": "88c303d2e1ee964f3f3c950431dcee63112302de"
   },
   "outputs": [],
   "source": [
    "X_test.Exterior2nd.unique()"
   ]
  },
  {
   "cell_type": "markdown",
   "metadata": {
    "_uuid": "35f95b5148dff14275321444c753a291293ec113"
   },
   "source": [
    "As we can see in Exterior2nd feature 'WdShing' is misspelled as 'Wd Shng', 'BrkComm' is misspelled as 'Brk Cmn' & 'CemntBd' is misspelled as 'CmentBd', so we need to correct these in the dataset."
   ]
  },
  {
   "cell_type": "code",
   "execution_count": null,
   "metadata": {
    "_uuid": "e5de7ea92c7ed1c535c476b0d8b9c64c07f3bfd1"
   },
   "outputs": [],
   "source": [
    "mapping={ 'Wd Shng':'WdShing','Brk Cmn':'BrkComm','CmentBd':'CemntBd' }\n",
    "X.Exterior2nd.replace(mapping,inplace=True)\n",
    "X_test.Exterior2nd.replace(mapping,inplace=True)\n",
    "a=X.Exterior1st.value_counts()\n",
    "b=X.Exterior2nd.value_counts()\n",
    "c=pd.concat([a,b],axis=1,sort=True)\n",
    "c.plot.bar(stacked=True)"
   ]
  },
  {
   "cell_type": "code",
   "execution_count": null,
   "metadata": {
    "_uuid": "1a0d5ef152b0ab4dd249703f1684fe880061ec6b"
   },
   "outputs": [],
   "source": [
    "dummies=pd.get_dummies(X.Exterior1st,prefix='Ext1')\n",
    "dummies['Ext1_Other']=0\n",
    "X=pd.concat([X,dummies],axis=1)\n",
    "dummies=pd.get_dummies(X_test.Exterior1st,prefix='Ext1')\n",
    "dummies['Ext1_ImStucc']=0\n",
    "dummies['Ext1_Stone']=0\n",
    "dummies['Ext1_Other']=0\n",
    "X_test=pd.concat([X_test,dummies],axis=1)\n",
    "dummies=pd.get_dummies(X.Exterior2nd,prefix='Ext2')\n",
    "X=pd.concat([X,dummies],axis=1)\n",
    "dummies=pd.get_dummies(X_test.Exterior2nd,prefix='Ext2')\n",
    "dummies['Ext2_Other']=0\n",
    "X_test=pd.concat([X_test,dummies],axis=1)\n",
    "exteriors=X.Exterior2nd.unique()\n",
    "for ext in exteriors:\n",
    "    X['Ext_'+ext]=((X['Ext1_'+ext]+X['Ext2_'+ext])>0)*1\n",
    "    X_test['Ext_'+ext]=((X_test['Ext1_'+ext]+X_test['Ext2_'+ext])>0)*1\n",
    "    X.drop(['Ext1_'+ext,'Ext2_'+ext],axis=1,inplace=True)\n",
    "    X_test.drop(['Ext1_'+ext,'Ext2_'+ext],axis=1,inplace=True)"
   ]
  },
  {
   "cell_type": "code",
   "execution_count": null,
   "metadata": {
    "_uuid": "6708f8807b7012c513799af59c9fe29465a10c67"
   },
   "outputs": [],
   "source": [
    "dummies=pd.get_dummies(X.MasVnrType,prefix='MVT')\n",
    "X=pd.concat([X,dummies],axis=1)\n",
    "dummies=pd.get_dummies(X_test.MasVnrType,prefix='MVT')\n",
    "X_test=pd.concat([X_test,dummies],axis=1)\n",
    "mapping={ 'Ex':4,'Gd':3,'TA':2,'Fa':1,'Po':0 }\n",
    "X.ExterQual.replace(mapping,inplace=True)\n",
    "X_test.ExterQual.replace(mapping,inplace=True)\n",
    "X.ExterCond.replace(mapping,inplace=True)\n",
    "X_test.ExterCond.replace(mapping,inplace=True)\n",
    "dummies=pd.get_dummies(X.Foundation,prefix='Foundation')\n",
    "X=pd.concat([X,dummies],axis=1)\n",
    "dummies=pd.get_dummies(X_test.Foundation,prefix='Foundation')\n",
    "X_test=pd.concat([X_test,dummies],axis=1)\n",
    "X['NoBsmt']=(X.BsmtQual=='NoBsmt')*1\n",
    "X_test['NoBsmt']=(X_test.BsmtQual=='NoBsmt')*1\n",
    "mapping={ 'Ex':4,'Gd':3,'TA':2,'Fa':1,'Po':0,'NoBsmt':-1 }\n",
    "X.BsmtQual.replace(mapping,inplace=True)\n",
    "X_test.BsmtQual.replace(mapping,inplace=True)\n",
    "X.BsmtCond.replace(mapping,inplace=True)\n",
    "X_test.BsmtCond.replace(mapping,inplace=True)\n",
    "mapping={ 'Gd':4,'Av':3,'Mn':2,'No':1,'NoBsmt':0 }\n",
    "X.BsmtExposure.replace(mapping,inplace=True)\n",
    "X_test.BsmtExposure.replace(mapping,inplace=True)"
   ]
  },
  {
   "cell_type": "markdown",
   "metadata": {
    "_uuid": "9ea49db69f3eda0e432028ebd943a02dfcb4219f"
   },
   "source": [
    "Total finished area of the basement will be equal to the finished area of basement type 1 & 2. So creating a new feature 'BsmtFinSF' equal to the sum of 'BsmtFinSF1' & 'BsmtFinSF2'."
   ]
  },
  {
   "cell_type": "code",
   "execution_count": null,
   "metadata": {
    "_uuid": "20847a0be779b9f2e98ae7e5b7ebb84ebb5b279e"
   },
   "outputs": [],
   "source": [
    "X['BsmtFinSF']=X.BsmtFinSF1+X.BsmtFinSF2\n",
    "X_test['BsmtFinSF']=X_test.BsmtFinSF1+X_test.BsmtFinSF2"
   ]
  },
  {
   "cell_type": "code",
   "execution_count": null,
   "metadata": {
    "_uuid": "6b4db806e82d0ad1fd229ab7bbd6df8083bf56fb"
   },
   "outputs": [],
   "source": [
    "mapping={'GLQ':6,'ALQ':5,'BLQ':4,'Rec':3,'LwQ':2,'Unf':1,'NoBsmt':0}\n",
    "X.BsmtFinType1.replace(mapping,inplace=True)\n",
    "X_test.BsmtFinType1.replace(mapping,inplace=True)\n",
    "X.BsmtFinType2.replace(mapping,inplace=True)\n",
    "X_test.BsmtFinType2.replace(mapping,inplace=True)\n",
    "dummies=pd.get_dummies(X.Heating,prefix='Heating')\n",
    "X=pd.concat([X,dummies],axis=1)\n",
    "dummies=pd.get_dummies(X_test.Heating,prefix='Heating')\n",
    "dummies['Heating_OthW']=0\n",
    "dummies['Heating_Floor']=0\n",
    "dummies.sort_index(axis=1,inplace=True)\n",
    "X_test=pd.concat([X_test,dummies],axis=1)\n",
    "mapping={ 'Ex':4,'Gd':3,'TA':2,'Fa':1,'Po':0 }\n",
    "X.HeatingQC.replace(mapping,inplace=True)\n",
    "X_test.HeatingQC.replace(mapping,inplace=True)\n",
    "X.loc[:,'CentralAir']=le.fit_transform(X.CentralAir.values)\n",
    "X_test.loc[:,'CentralAir']=le.transform(X_test.CentralAir.values)\n",
    "dummies=pd.get_dummies(X.Electrical,prefix='Electrical')\n",
    "X=pd.concat([X,dummies],axis=1)\n",
    "dummies=pd.get_dummies(X_test.Electrical,prefix='Electrical')\n",
    "dummies['Electrical_Mix']=0\n",
    "dummies.sort_index(axis=1,inplace=True)\n",
    "X_test=pd.concat([X_test,dummies],axis=1)"
   ]
  },
  {
   "cell_type": "markdown",
   "metadata": {
    "_uuid": "0460168be6c05149be25ab650585bda6d1576e3c"
   },
   "source": [
    "Creating a new feature 'TotalSF' equal to sum of area of all floors including basement."
   ]
  },
  {
   "cell_type": "code",
   "execution_count": null,
   "metadata": {
    "_uuid": "914ee633976f96deda8ef255c1f0ca70dfa8406a"
   },
   "outputs": [],
   "source": [
    "X['TotalSF']=X['TotalBsmtSF']+X['1stFlrSF']+X['2ndFlrSF']\n",
    "X_test['TotalSF']=X_test['TotalBsmtSF']+X_test['1stFlrSF']+X_test['2ndFlrSF']"
   ]
  },
  {
   "cell_type": "code",
   "execution_count": null,
   "metadata": {
    "_uuid": "df1bc427ad7fa0babf1a3682bee2f62c7da9ea23"
   },
   "outputs": [],
   "source": [
    "mapping={ 'Ex':4,'Gd':3,'TA':2,'Fa':1,'Po':0 }\n",
    "X.KitchenQual.replace(mapping,inplace=True)\n",
    "X_test.KitchenQual.replace(mapping,inplace=True)\n",
    "mapping= {'Maj1':2,'Maj2':1,'Min1':5,'Min2':4,'Mod':3,'Sev':0,'Typ':6}\n",
    "X.Functional.replace(mapping,inplace=True)\n",
    "X_test.Functional.replace(mapping,inplace=True)\n",
    "mapping={ 'Ex':4,'Gd':3,'TA':2,'Fa':1,'Po':0,'NoFire':-1 }\n",
    "X.FireplaceQu.replace(mapping,inplace=True)\n",
    "X_test.FireplaceQu.replace(mapping,inplace=True)\n",
    "X['NoGarage']=(X.GarageType=='NoGarage')*1\n",
    "X_test['NoGarage']=(X_test.GarageType=='NoGarage')*1\n",
    "dummies=pd.get_dummies(X.GarageType,prefix='GarageType')\n",
    "X=pd.concat([X,dummies],axis=1)\n",
    "dummies=pd.get_dummies(X_test.GarageType,prefix='GarageType')\n",
    "X_test=pd.concat([X_test,dummies],axis=1)\n",
    "mapping={'Fin':3,'RFn':2,'Unf':1,'NoGarage':0}\n",
    "X.GarageFinish.replace(mapping,inplace=True)\n",
    "X_test.GarageFinish.replace(mapping,inplace=True)\n",
    "mapping={ 'Ex':4,'Gd':3,'TA':2,'Fa':1,'Po':0,'NoGarage':-1 }\n",
    "X.GarageQual.replace(mapping,inplace=True)\n",
    "X_test.GarageQual.replace(mapping,inplace=True)\n",
    "X.GarageCond.replace(mapping,inplace=True)\n",
    "X_test.GarageCond.replace(mapping,inplace=True)\n",
    "X.loc[:,'PavedDrive']=le.fit_transform(X.PavedDrive.values)\n",
    "X_test.loc[:,'PavedDrive']=le.transform(X_test.PavedDrive.values)\n",
    "mapping={'Ex':3,'Gd':2,'Fa':1,'NoPool':0}\n",
    "X.PoolQC.replace(mapping,inplace=True)\n",
    "X_test.PoolQC.replace(mapping,inplace=True)\n",
    "dummies=pd.get_dummies(X.MiscFeature,prefix='Misc')\n",
    "X=pd.concat([X,dummies],axis=1)\n",
    "dummies=pd.get_dummies(X_test.MiscFeature,prefix='Misc')\n",
    "dummies['Misc_TenC']=0\n",
    "X_test=pd.concat([X_test,dummies],axis=1)\n",
    "mapping={'GdPrv':4,'MnPrv':3,'GdWo':2,'MnWw':1,'NoFence':0}\n",
    "X.Fence.replace(mapping,inplace=True)\n",
    "X_test.Fence.replace(mapping,inplace=True)\n",
    "mapping={1:'Jan',2:'Feb',3:'Mar',4:'Apr',5:'May',6:'Jun',7:'Jul',8:'Aug',9:'Sep',10:'Oct',11:'Nov',12:'Dec'}\n",
    "X.MoSold.replace(mapping,inplace=True)\n",
    "X_test.MoSold.replace(mapping,inplace=True)\n",
    "dummies=pd.get_dummies(X.MoSold,prefix='MoSold')\n",
    "X=pd.concat([X,dummies],axis=1)\n",
    "dummies=pd.get_dummies(X_test.MoSold,prefix='MoSold')\n",
    "X_test=pd.concat([X_test,dummies],axis=1)\n",
    "dummies=pd.get_dummies(X.YrSold,prefix='YrSold')\n",
    "X=pd.concat([X,dummies],axis=1)\n",
    "dummies=pd.get_dummies(X_test.YrSold,prefix='YrSold')\n",
    "X_test=pd.concat([X_test,dummies],axis=1)\n",
    "dummies=pd.get_dummies(X.SaleType,prefix='SaleType')\n",
    "X=pd.concat([X,dummies],axis=1)\n",
    "dummies=pd.get_dummies(X_test.SaleType,prefix='SaleType')\n",
    "X_test=pd.concat([X_test,dummies],axis=1)\n",
    "dummies=pd.get_dummies(X.SaleCondition,prefix='SaleCondition')\n",
    "X=pd.concat([X,dummies],axis=1)\n",
    "dummies=pd.get_dummies(X_test.SaleCondition,prefix='SaleCondition')\n",
    "X_test=pd.concat([X_test,dummies],axis=1)\n",
    "X.head()"
   ]
  },
  {
   "cell_type": "code",
   "execution_count": null,
   "metadata": {
    "_uuid": "3dab026832f247392ac0c0bbbf20efdc55f30613"
   },
   "outputs": [],
   "source": [
    "X_test.head()"
   ]
  },
  {
   "cell_type": "markdown",
   "metadata": {
    "_uuid": "4a08769077b54a8e3d8b6c2f7c131d61b8d35063"
   },
   "source": [
    "We will now delete the columns which are not required now."
   ]
  },
  {
   "cell_type": "code",
   "execution_count": null,
   "metadata": {
    "_uuid": "b7ac3ecb2067c320af969bc03cd0b68964406e3c"
   },
   "outputs": [],
   "source": [
    "column_drop=['Id','MSZoning','LotConfig','Condition1','Condition2','HouseStyle','RoofStyle','Exterior1st','Exterior2nd','MasVnrType','Foundation','Electrical','GarageType','MiscFeature','YrSold','SaleType','SaleCondition','GarageYrBlt','Neighborhood','BldgType','RoofMatl','Heating','MoSold']\n",
    "X.drop(column_drop,axis=1,inplace=True)\n",
    "X_test.drop(column_drop,axis=1,inplace=True)\n",
    "Y=X.SalePrice\n",
    "X.drop('SalePrice',axis=1,inplace=True)"
   ]
  },
  {
   "cell_type": "code",
   "execution_count": null,
   "metadata": {
    "_uuid": "39fe544c1df0363f45131aac70f2b4697149951e"
   },
   "outputs": [],
   "source": [
    "skew(Y)"
   ]
  },
  {
   "cell_type": "markdown",
   "metadata": {
    "_uuid": "1471f129fe59f1b1879fb467442bca33dd9a7200"
   },
   "source": [
    "As we can see our target variable Y is highly skewed, so we will apply log transformation on Y.\n",
    "\n",
    "This is how log transformation of some variable x is done :-\n",
    "\n",
    "**x' = log(1+x)**"
   ]
  },
  {
   "cell_type": "code",
   "execution_count": null,
   "metadata": {
    "_uuid": "d1cfb842a5ed12bc172d18c55b4cbc921753babc"
   },
   "outputs": [],
   "source": [
    "Y=np.log1p(Y)\n",
    "skew(Y)"
   ]
  },
  {
   "cell_type": "markdown",
   "metadata": {
    "_uuid": "920bde732fd05edb060905f1af268e0c2b156be1"
   },
   "source": [
    "We can see above that skewness of Y is reduced after applying log transformation."
   ]
  },
  {
   "cell_type": "markdown",
   "metadata": {
    "_uuid": "78ab650e8b6f071c7ff00eaa0677910cf2888cf2"
   },
   "source": [
    "**Box-Cox Transformation :-**\n",
    "\n",
    "We will now apply box cox transformation on features except for the dummy ones. Purpose of the transformation is to reduce skewness of features for modelling. These features have index 0 to 55,153 &165."
   ]
  },
  {
   "cell_type": "code",
   "execution_count": null,
   "metadata": {
    "_uuid": "a2987b56b4bfc038bd9a124eb71419aba2e3fec2"
   },
   "outputs": [],
   "source": [
    "lst=list(range(56))\n",
    "to_extend=[153,165]\n",
    "lst.extend(to_extend)\n",
    "skew_features=X.iloc[:,lst].apply(lambda x:skew(x)).sort_values(ascending=False)\n",
    "skew_features_test=X_test.iloc[:,lst].apply(lambda x:skew(x)).sort_values(ascending=False)\n",
    "skewness = pd.DataFrame({'Skew' :skew_features})\n",
    "skewness_test = pd.DataFrame({'Skew' :skew_features_test})\n",
    "skewness.head()"
   ]
  },
  {
   "cell_type": "code",
   "execution_count": null,
   "metadata": {
    "_uuid": "466503c46660e909cedd74d5f47e6e426db0a287"
   },
   "outputs": [],
   "source": [
    "skewness = skewness[abs(skewness) > 0.5].dropna()\n",
    "feats=skewness.index.values.tolist()\n",
    "lam=0.1\n",
    "for feat in feats:\n",
    "    X[feat]=boxcox1p(X[feat], lam)\n",
    "    X_test[feat]=boxcox1p(X_test[feat], lam)\n",
    "X.shape,X_test.shape"
   ]
  },
  {
   "cell_type": "code",
   "execution_count": null,
   "metadata": {
    "_uuid": "92123e6b4cb8e4eca84b5f483b52cc7f72c1b46c"
   },
   "outputs": [],
   "source": [
    "X.head()"
   ]
  },
  {
   "cell_type": "code",
   "execution_count": null,
   "metadata": {
    "_uuid": "c707aa1baee3de1c44b34e6afaaa43a49cd15c57"
   },
   "outputs": [],
   "source": [
    "X_test.head()"
   ]
  },
  {
   "cell_type": "markdown",
   "metadata": {
    "_uuid": "d437d1ca30868fcdd07612d4556830985cbcafa3"
   },
   "source": [
    "**Modelling**\n",
    "\n",
    "*  **Gradient Boosting Regression :-**"
   ]
  },
  {
   "cell_type": "code",
   "execution_count": null,
   "metadata": {
    "_uuid": "2fde10fadfceb510886729ea0186e78d182e1f12"
   },
   "outputs": [],
   "source": [
    "#parameters = {'max_depth':[2,3,4],'n_estimators':[2800,3000,3200],'max_features':['sqrt'],'loss':['huber'],'min_samples_leaf':[14,15,16],'min_samples_split':[9,10,11],'random_state':[0]}\n",
    "parameters = {'max_depth':[3],'n_estimators':[3000],'max_features':['sqrt'],'loss':['huber'],'min_samples_leaf':[15],'min_samples_split':[10],'random_state':[0]}\n",
    "model=GridSearchCV(GradientBoostingRegressor(),parameters,scoring='neg_mean_squared_error',cv=KFold(n_splits=7))\n",
    "model.fit(X,Y)\n",
    "Y_test1=model.predict(X_test)\n",
    "Y_test1=np.exp(Y_test1)-1\n",
    "((model.best_score_)*(-1))**0.5"
   ]
  },
  {
   "cell_type": "markdown",
   "metadata": {
    "_uuid": "7c769d835bc9a1581ced1528bfc2ad87f59fa2af"
   },
   "source": [
    "*  **Lasso Regression :-**"
   ]
  },
  {
   "cell_type": "code",
   "execution_count": null,
   "metadata": {
    "_uuid": "748fb0d37de65d0ef07fba2cb42ed1410b86438c"
   },
   "outputs": [],
   "source": [
    "model=make_pipeline(RobustScaler(),Lasso(0.0004,random_state=0))\n",
    "rmslerror=(-cross_val_score(model,X,Y,scoring='neg_mean_squared_error',cv=KFold(n_splits=7)))**0.5\n",
    "print(rmslerror.mean())\n",
    "model.fit(X,Y)\n",
    "Y_test2=np.expm1(model.predict(X_test))"
   ]
  },
  {
   "cell_type": "markdown",
   "metadata": {
    "_uuid": "d5a7643dc673275fd6adf9e899d541b71390dc07"
   },
   "source": [
    "In next step we will take mean of the above models, advantage of taking mean is that error in one model is compensated by other model."
   ]
  },
  {
   "cell_type": "code",
   "execution_count": null,
   "metadata": {
    "_uuid": "236eb69924707f39914298a4e34e4a0d50881527"
   },
   "outputs": [],
   "source": [
    "Y_test=(Y_test1+Y_test2)/2\n",
    "submission=pd.DataFrame({'Id':range(1461,2920),'SalePrice':Y_test})\n",
    "submission.to_csv('submit.csv',index=False)"
   ]
  },
  {
   "cell_type": "markdown",
   "metadata": {
    "_uuid": "52bd85da3f734ebdcc2c3e72e9033e6a8253e546"
   },
   "source": [
    "Any suggestions are welcome.\n",
    "\n",
    "***Thank You!***"
   ]
  }
 ],
 "metadata": {
  "kernelspec": {
   "display_name": "Python 3",
   "language": "python",
   "name": "python3"
  },
  "language_info": {
   "codemirror_mode": {
    "name": "ipython",
    "version": 3
   },
   "file_extension": ".py",
   "mimetype": "text/x-python",
   "name": "python",
   "nbconvert_exporter": "python",
   "pygments_lexer": "ipython3",
   "version": "3.6.5"
  }
 },
 "nbformat": 4,
 "nbformat_minor": 1
}
