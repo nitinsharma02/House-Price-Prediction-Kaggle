{
 "cells": [
  {
   "cell_type": "markdown",
   "metadata": {
    "_uuid": "ad2771924061e174aaa49fa102d5ec8343777799"
   },
   "source": [
    " **House Prices Prediction Simple Model**"
   ]
  },
  {
   "cell_type": "markdown",
   "metadata": {
    "_uuid": "e5ee2a2184b315770e8641d19c340746325a7d7f"
   },
   "source": [
    "This kernel is a basic approach to prediction of House Prices for the given dataset.\n",
    "\n",
    "Importing the necessary packages."
   ]
  },
  {
   "cell_type": "code",
   "execution_count": 1,
   "metadata": {
    "_cell_guid": "b1076dfc-b9ad-4769-8c92-a6c4dae69d19",
    "_uuid": "8f2839f25d086af736a60e9eeb907d3b93b6e0e5"
   },
   "outputs": [
    {
     "name": "stdout",
     "output_type": "stream",
     "text": [
      "['test.csv', 'train.csv']\n"
     ]
    }
   ],
   "source": [
    "# This Python 3 environment comes with many helpful analytics libraries installed\n",
    "# It is defined by the kaggle/python docker image: https://github.com/kaggle/docker-python\n",
    "# For example, here's several helpful packages to load in \n",
    "\n",
    "import numpy as np # linear algebra\n",
    "import pandas as pd # data processing, CSV file I/O (e.g. pd.read_csv)\n",
    "import matplotlib.pyplot as plt\n",
    "%matplotlib inline\n",
    "import seaborn as sns\n",
    "from sklearn.linear_model import LinearRegression, Lasso\n",
    "from sklearn.preprocessing import LabelEncoder, RobustScaler\n",
    "from sklearn.model_selection import GridSearchCV,KFold,cross_val_score\n",
    "from sklearn.ensemble import GradientBoostingRegressor\n",
    "from sklearn.pipeline import make_pipeline\n",
    "from scipy.stats import skew\n",
    "from scipy.special import boxcox1p\n",
    "# Input data files are available in the \"../input/\" directory.\n",
    "# For example, running this (by clicking run or pressing Shift+Enter) will list the files in the input directory\n",
    "\n",
    "import os\n",
    "print(os.listdir(\"./input\"))\n",
    "\n",
    "# Any results you write to the current directory are saved as output."
   ]
  },
  {
   "cell_type": "markdown",
   "metadata": {
    "_uuid": "fa692a2c33b7eb9cde62eae0a3d7a90879346682"
   },
   "source": [
    "**Reading the dataset**"
   ]
  },
  {
   "cell_type": "code",
   "execution_count": 2,
   "metadata": {
    "_cell_guid": "79c7e3d0-c299-4dcb-8224-4455121ee9b0",
    "_uuid": "d629ff2d2480ee46fbb7e2d37f6b5fab8052498a"
   },
   "outputs": [
    {
     "data": {
      "text/html": [
       "<div>\n",
       "<style scoped>\n",
       "    .dataframe tbody tr th:only-of-type {\n",
       "        vertical-align: middle;\n",
       "    }\n",
       "\n",
       "    .dataframe tbody tr th {\n",
       "        vertical-align: top;\n",
       "    }\n",
       "\n",
       "    .dataframe thead th {\n",
       "        text-align: right;\n",
       "    }\n",
       "</style>\n",
       "<table border=\"1\" class=\"dataframe\">\n",
       "  <thead>\n",
       "    <tr style=\"text-align: right;\">\n",
       "      <th></th>\n",
       "      <th>Id</th>\n",
       "      <th>MSSubClass</th>\n",
       "      <th>MSZoning</th>\n",
       "      <th>LotFrontage</th>\n",
       "      <th>LotArea</th>\n",
       "      <th>Street</th>\n",
       "      <th>Alley</th>\n",
       "      <th>LotShape</th>\n",
       "      <th>LandContour</th>\n",
       "      <th>Utilities</th>\n",
       "      <th>...</th>\n",
       "      <th>PoolArea</th>\n",
       "      <th>PoolQC</th>\n",
       "      <th>Fence</th>\n",
       "      <th>MiscFeature</th>\n",
       "      <th>MiscVal</th>\n",
       "      <th>MoSold</th>\n",
       "      <th>YrSold</th>\n",
       "      <th>SaleType</th>\n",
       "      <th>SaleCondition</th>\n",
       "      <th>SalePrice</th>\n",
       "    </tr>\n",
       "  </thead>\n",
       "  <tbody>\n",
       "    <tr>\n",
       "      <th>0</th>\n",
       "      <td>1</td>\n",
       "      <td>60</td>\n",
       "      <td>RL</td>\n",
       "      <td>65.0</td>\n",
       "      <td>8450</td>\n",
       "      <td>Pave</td>\n",
       "      <td>NaN</td>\n",
       "      <td>Reg</td>\n",
       "      <td>Lvl</td>\n",
       "      <td>AllPub</td>\n",
       "      <td>...</td>\n",
       "      <td>0</td>\n",
       "      <td>NaN</td>\n",
       "      <td>NaN</td>\n",
       "      <td>NaN</td>\n",
       "      <td>0</td>\n",
       "      <td>2</td>\n",
       "      <td>2008</td>\n",
       "      <td>WD</td>\n",
       "      <td>Normal</td>\n",
       "      <td>208500</td>\n",
       "    </tr>\n",
       "    <tr>\n",
       "      <th>1</th>\n",
       "      <td>2</td>\n",
       "      <td>20</td>\n",
       "      <td>RL</td>\n",
       "      <td>80.0</td>\n",
       "      <td>9600</td>\n",
       "      <td>Pave</td>\n",
       "      <td>NaN</td>\n",
       "      <td>Reg</td>\n",
       "      <td>Lvl</td>\n",
       "      <td>AllPub</td>\n",
       "      <td>...</td>\n",
       "      <td>0</td>\n",
       "      <td>NaN</td>\n",
       "      <td>NaN</td>\n",
       "      <td>NaN</td>\n",
       "      <td>0</td>\n",
       "      <td>5</td>\n",
       "      <td>2007</td>\n",
       "      <td>WD</td>\n",
       "      <td>Normal</td>\n",
       "      <td>181500</td>\n",
       "    </tr>\n",
       "    <tr>\n",
       "      <th>2</th>\n",
       "      <td>3</td>\n",
       "      <td>60</td>\n",
       "      <td>RL</td>\n",
       "      <td>68.0</td>\n",
       "      <td>11250</td>\n",
       "      <td>Pave</td>\n",
       "      <td>NaN</td>\n",
       "      <td>IR1</td>\n",
       "      <td>Lvl</td>\n",
       "      <td>AllPub</td>\n",
       "      <td>...</td>\n",
       "      <td>0</td>\n",
       "      <td>NaN</td>\n",
       "      <td>NaN</td>\n",
       "      <td>NaN</td>\n",
       "      <td>0</td>\n",
       "      <td>9</td>\n",
       "      <td>2008</td>\n",
       "      <td>WD</td>\n",
       "      <td>Normal</td>\n",
       "      <td>223500</td>\n",
       "    </tr>\n",
       "    <tr>\n",
       "      <th>3</th>\n",
       "      <td>4</td>\n",
       "      <td>70</td>\n",
       "      <td>RL</td>\n",
       "      <td>60.0</td>\n",
       "      <td>9550</td>\n",
       "      <td>Pave</td>\n",
       "      <td>NaN</td>\n",
       "      <td>IR1</td>\n",
       "      <td>Lvl</td>\n",
       "      <td>AllPub</td>\n",
       "      <td>...</td>\n",
       "      <td>0</td>\n",
       "      <td>NaN</td>\n",
       "      <td>NaN</td>\n",
       "      <td>NaN</td>\n",
       "      <td>0</td>\n",
       "      <td>2</td>\n",
       "      <td>2006</td>\n",
       "      <td>WD</td>\n",
       "      <td>Abnorml</td>\n",
       "      <td>140000</td>\n",
       "    </tr>\n",
       "    <tr>\n",
       "      <th>4</th>\n",
       "      <td>5</td>\n",
       "      <td>60</td>\n",
       "      <td>RL</td>\n",
       "      <td>84.0</td>\n",
       "      <td>14260</td>\n",
       "      <td>Pave</td>\n",
       "      <td>NaN</td>\n",
       "      <td>IR1</td>\n",
       "      <td>Lvl</td>\n",
       "      <td>AllPub</td>\n",
       "      <td>...</td>\n",
       "      <td>0</td>\n",
       "      <td>NaN</td>\n",
       "      <td>NaN</td>\n",
       "      <td>NaN</td>\n",
       "      <td>0</td>\n",
       "      <td>12</td>\n",
       "      <td>2008</td>\n",
       "      <td>WD</td>\n",
       "      <td>Normal</td>\n",
       "      <td>250000</td>\n",
       "    </tr>\n",
       "  </tbody>\n",
       "</table>\n",
       "<p>5 rows × 81 columns</p>\n",
       "</div>"
      ],
      "text/plain": [
       "   Id  MSSubClass MSZoning  LotFrontage  LotArea Street Alley LotShape  \\\n",
       "0   1          60       RL         65.0     8450   Pave   NaN      Reg   \n",
       "1   2          20       RL         80.0     9600   Pave   NaN      Reg   \n",
       "2   3          60       RL         68.0    11250   Pave   NaN      IR1   \n",
       "3   4          70       RL         60.0     9550   Pave   NaN      IR1   \n",
       "4   5          60       RL         84.0    14260   Pave   NaN      IR1   \n",
       "\n",
       "  LandContour Utilities    ...     PoolArea PoolQC Fence MiscFeature MiscVal  \\\n",
       "0         Lvl    AllPub    ...            0    NaN   NaN         NaN       0   \n",
       "1         Lvl    AllPub    ...            0    NaN   NaN         NaN       0   \n",
       "2         Lvl    AllPub    ...            0    NaN   NaN         NaN       0   \n",
       "3         Lvl    AllPub    ...            0    NaN   NaN         NaN       0   \n",
       "4         Lvl    AllPub    ...            0    NaN   NaN         NaN       0   \n",
       "\n",
       "  MoSold YrSold  SaleType  SaleCondition  SalePrice  \n",
       "0      2   2008        WD         Normal     208500  \n",
       "1      5   2007        WD         Normal     181500  \n",
       "2      9   2008        WD         Normal     223500  \n",
       "3      2   2006        WD        Abnorml     140000  \n",
       "4     12   2008        WD         Normal     250000  \n",
       "\n",
       "[5 rows x 81 columns]"
      ]
     },
     "execution_count": 2,
     "metadata": {},
     "output_type": "execute_result"
    }
   ],
   "source": [
    "X=pd.read_csv(\"./input/train.csv\")\n",
    "X_test=pd.read_csv(\"./input/test.csv\")\n",
    "X.head()"
   ]
  },
  {
   "cell_type": "code",
   "execution_count": 3,
   "metadata": {
    "_uuid": "c19c0f54fe0f5d19a5214c641daef79dbf6f7cd2"
   },
   "outputs": [
    {
     "data": {
      "text/html": [
       "<div>\n",
       "<style scoped>\n",
       "    .dataframe tbody tr th:only-of-type {\n",
       "        vertical-align: middle;\n",
       "    }\n",
       "\n",
       "    .dataframe tbody tr th {\n",
       "        vertical-align: top;\n",
       "    }\n",
       "\n",
       "    .dataframe thead th {\n",
       "        text-align: right;\n",
       "    }\n",
       "</style>\n",
       "<table border=\"1\" class=\"dataframe\">\n",
       "  <thead>\n",
       "    <tr style=\"text-align: right;\">\n",
       "      <th></th>\n",
       "      <th>Id</th>\n",
       "      <th>MSSubClass</th>\n",
       "      <th>MSZoning</th>\n",
       "      <th>LotFrontage</th>\n",
       "      <th>LotArea</th>\n",
       "      <th>Street</th>\n",
       "      <th>Alley</th>\n",
       "      <th>LotShape</th>\n",
       "      <th>LandContour</th>\n",
       "      <th>Utilities</th>\n",
       "      <th>...</th>\n",
       "      <th>ScreenPorch</th>\n",
       "      <th>PoolArea</th>\n",
       "      <th>PoolQC</th>\n",
       "      <th>Fence</th>\n",
       "      <th>MiscFeature</th>\n",
       "      <th>MiscVal</th>\n",
       "      <th>MoSold</th>\n",
       "      <th>YrSold</th>\n",
       "      <th>SaleType</th>\n",
       "      <th>SaleCondition</th>\n",
       "    </tr>\n",
       "  </thead>\n",
       "  <tbody>\n",
       "    <tr>\n",
       "      <th>0</th>\n",
       "      <td>1461</td>\n",
       "      <td>20</td>\n",
       "      <td>RH</td>\n",
       "      <td>80.0</td>\n",
       "      <td>11622</td>\n",
       "      <td>Pave</td>\n",
       "      <td>NaN</td>\n",
       "      <td>Reg</td>\n",
       "      <td>Lvl</td>\n",
       "      <td>AllPub</td>\n",
       "      <td>...</td>\n",
       "      <td>120</td>\n",
       "      <td>0</td>\n",
       "      <td>NaN</td>\n",
       "      <td>MnPrv</td>\n",
       "      <td>NaN</td>\n",
       "      <td>0</td>\n",
       "      <td>6</td>\n",
       "      <td>2010</td>\n",
       "      <td>WD</td>\n",
       "      <td>Normal</td>\n",
       "    </tr>\n",
       "    <tr>\n",
       "      <th>1</th>\n",
       "      <td>1462</td>\n",
       "      <td>20</td>\n",
       "      <td>RL</td>\n",
       "      <td>81.0</td>\n",
       "      <td>14267</td>\n",
       "      <td>Pave</td>\n",
       "      <td>NaN</td>\n",
       "      <td>IR1</td>\n",
       "      <td>Lvl</td>\n",
       "      <td>AllPub</td>\n",
       "      <td>...</td>\n",
       "      <td>0</td>\n",
       "      <td>0</td>\n",
       "      <td>NaN</td>\n",
       "      <td>NaN</td>\n",
       "      <td>Gar2</td>\n",
       "      <td>12500</td>\n",
       "      <td>6</td>\n",
       "      <td>2010</td>\n",
       "      <td>WD</td>\n",
       "      <td>Normal</td>\n",
       "    </tr>\n",
       "    <tr>\n",
       "      <th>2</th>\n",
       "      <td>1463</td>\n",
       "      <td>60</td>\n",
       "      <td>RL</td>\n",
       "      <td>74.0</td>\n",
       "      <td>13830</td>\n",
       "      <td>Pave</td>\n",
       "      <td>NaN</td>\n",
       "      <td>IR1</td>\n",
       "      <td>Lvl</td>\n",
       "      <td>AllPub</td>\n",
       "      <td>...</td>\n",
       "      <td>0</td>\n",
       "      <td>0</td>\n",
       "      <td>NaN</td>\n",
       "      <td>MnPrv</td>\n",
       "      <td>NaN</td>\n",
       "      <td>0</td>\n",
       "      <td>3</td>\n",
       "      <td>2010</td>\n",
       "      <td>WD</td>\n",
       "      <td>Normal</td>\n",
       "    </tr>\n",
       "    <tr>\n",
       "      <th>3</th>\n",
       "      <td>1464</td>\n",
       "      <td>60</td>\n",
       "      <td>RL</td>\n",
       "      <td>78.0</td>\n",
       "      <td>9978</td>\n",
       "      <td>Pave</td>\n",
       "      <td>NaN</td>\n",
       "      <td>IR1</td>\n",
       "      <td>Lvl</td>\n",
       "      <td>AllPub</td>\n",
       "      <td>...</td>\n",
       "      <td>0</td>\n",
       "      <td>0</td>\n",
       "      <td>NaN</td>\n",
       "      <td>NaN</td>\n",
       "      <td>NaN</td>\n",
       "      <td>0</td>\n",
       "      <td>6</td>\n",
       "      <td>2010</td>\n",
       "      <td>WD</td>\n",
       "      <td>Normal</td>\n",
       "    </tr>\n",
       "    <tr>\n",
       "      <th>4</th>\n",
       "      <td>1465</td>\n",
       "      <td>120</td>\n",
       "      <td>RL</td>\n",
       "      <td>43.0</td>\n",
       "      <td>5005</td>\n",
       "      <td>Pave</td>\n",
       "      <td>NaN</td>\n",
       "      <td>IR1</td>\n",
       "      <td>HLS</td>\n",
       "      <td>AllPub</td>\n",
       "      <td>...</td>\n",
       "      <td>144</td>\n",
       "      <td>0</td>\n",
       "      <td>NaN</td>\n",
       "      <td>NaN</td>\n",
       "      <td>NaN</td>\n",
       "      <td>0</td>\n",
       "      <td>1</td>\n",
       "      <td>2010</td>\n",
       "      <td>WD</td>\n",
       "      <td>Normal</td>\n",
       "    </tr>\n",
       "  </tbody>\n",
       "</table>\n",
       "<p>5 rows × 80 columns</p>\n",
       "</div>"
      ],
      "text/plain": [
       "     Id  MSSubClass MSZoning  LotFrontage  LotArea Street Alley LotShape  \\\n",
       "0  1461          20       RH         80.0    11622   Pave   NaN      Reg   \n",
       "1  1462          20       RL         81.0    14267   Pave   NaN      IR1   \n",
       "2  1463          60       RL         74.0    13830   Pave   NaN      IR1   \n",
       "3  1464          60       RL         78.0     9978   Pave   NaN      IR1   \n",
       "4  1465         120       RL         43.0     5005   Pave   NaN      IR1   \n",
       "\n",
       "  LandContour Utilities      ...       ScreenPorch PoolArea PoolQC  Fence  \\\n",
       "0         Lvl    AllPub      ...               120        0    NaN  MnPrv   \n",
       "1         Lvl    AllPub      ...                 0        0    NaN    NaN   \n",
       "2         Lvl    AllPub      ...                 0        0    NaN  MnPrv   \n",
       "3         Lvl    AllPub      ...                 0        0    NaN    NaN   \n",
       "4         HLS    AllPub      ...               144        0    NaN    NaN   \n",
       "\n",
       "  MiscFeature MiscVal MoSold  YrSold  SaleType  SaleCondition  \n",
       "0         NaN       0      6    2010        WD         Normal  \n",
       "1        Gar2   12500      6    2010        WD         Normal  \n",
       "2         NaN       0      3    2010        WD         Normal  \n",
       "3         NaN       0      6    2010        WD         Normal  \n",
       "4         NaN       0      1    2010        WD         Normal  \n",
       "\n",
       "[5 rows x 80 columns]"
      ]
     },
     "execution_count": 3,
     "metadata": {},
     "output_type": "execute_result"
    }
   ],
   "source": [
    "X_test.head()"
   ]
  },
  {
   "cell_type": "code",
   "execution_count": 4,
   "metadata": {
    "_uuid": "95e9ea69bd9b985bb6ef763646c8b2d926d3863a"
   },
   "outputs": [
    {
     "data": {
      "text/plain": [
       "((1460, 81), (1459, 80))"
      ]
     },
     "execution_count": 4,
     "metadata": {},
     "output_type": "execute_result"
    }
   ],
   "source": [
    "X.shape,X_test.shape"
   ]
  },
  {
   "cell_type": "markdown",
   "metadata": {
    "_uuid": "47520fa7556967ee08ec69f9c7508f0e16e33e7d"
   },
   "source": [
    "**Steps to create the model :-**\n",
    "* Filling missing values\n",
    "* Labeling, creating dummies and feature engineering\n",
    "* Modelling"
   ]
  },
  {
   "cell_type": "markdown",
   "metadata": {
    "_uuid": "0a739c0574b3ecd8a7c6a4f5e619604810a14da6"
   },
   "source": [
    "**Filling missing values**"
   ]
  },
  {
   "cell_type": "markdown",
   "metadata": {
    "_uuid": "823b895b1e14cb7d67245da42b84ad9f00b1e7ba"
   },
   "source": [
    "Columns with missing values"
   ]
  },
  {
   "cell_type": "code",
   "execution_count": 5,
   "metadata": {
    "_uuid": "26d6ad2e9f33d23af310cfa34405d6d4f7be3909"
   },
   "outputs": [
    {
     "data": {
      "text/plain": [
       "LotFrontage      259\n",
       "Alley           1369\n",
       "MasVnrType         8\n",
       "MasVnrArea         8\n",
       "BsmtQual          37\n",
       "BsmtCond          37\n",
       "BsmtExposure      38\n",
       "BsmtFinType1      37\n",
       "BsmtFinType2      38\n",
       "Electrical         1\n",
       "FireplaceQu      690\n",
       "GarageType        81\n",
       "GarageYrBlt       81\n",
       "GarageFinish      81\n",
       "GarageQual        81\n",
       "GarageCond        81\n",
       "PoolQC          1453\n",
       "Fence           1179\n",
       "MiscFeature     1406\n",
       "dtype: int64"
      ]
     },
     "execution_count": 5,
     "metadata": {},
     "output_type": "execute_result"
    }
   ],
   "source": [
    "X.isnull().sum()[X.isnull().sum()>0]"
   ]
  },
  {
   "cell_type": "code",
   "execution_count": 6,
   "metadata": {
    "_uuid": "965630eb0826fc405cd952a445554ab19178f443"
   },
   "outputs": [
    {
     "data": {
      "text/plain": [
       "MSZoning           4\n",
       "LotFrontage      227\n",
       "Alley           1352\n",
       "Utilities          2\n",
       "Exterior1st        1\n",
       "Exterior2nd        1\n",
       "MasVnrType        16\n",
       "MasVnrArea        15\n",
       "BsmtQual          44\n",
       "BsmtCond          45\n",
       "BsmtExposure      44\n",
       "BsmtFinType1      42\n",
       "BsmtFinSF1         1\n",
       "BsmtFinType2      42\n",
       "BsmtFinSF2         1\n",
       "BsmtUnfSF          1\n",
       "TotalBsmtSF        1\n",
       "BsmtFullBath       2\n",
       "BsmtHalfBath       2\n",
       "KitchenQual        1\n",
       "Functional         2\n",
       "FireplaceQu      730\n",
       "GarageType        76\n",
       "GarageYrBlt       78\n",
       "GarageFinish      78\n",
       "GarageCars         1\n",
       "GarageArea         1\n",
       "GarageQual        78\n",
       "GarageCond        78\n",
       "PoolQC          1456\n",
       "Fence           1169\n",
       "MiscFeature     1408\n",
       "SaleType           1\n",
       "dtype: int64"
      ]
     },
     "execution_count": 6,
     "metadata": {},
     "output_type": "execute_result"
    }
   ],
   "source": [
    "X_test.isnull().sum()[X_test.isnull().sum()>0]"
   ]
  },
  {
   "cell_type": "markdown",
   "metadata": {
    "_uuid": "e9cc197cb8590c822952e6a196c89d32d46c2db7"
   },
   "source": [
    "Correlation matrix of features highly correlated with SalePrice feature."
   ]
  },
  {
   "cell_type": "code",
   "execution_count": 7,
   "metadata": {
    "_uuid": "ea54507ac837f46ea858edfe1f610b53fe8edfd5"
   },
   "outputs": [
    {
     "data": {
      "text/plain": [
       "<matplotlib.axes._subplots.AxesSubplot at 0x16aa2580cc0>"
      ]
     },
     "execution_count": 7,
     "metadata": {},
     "output_type": "execute_result"
    },
    {
     "data": {
      "image/png": "[encoded data removed]",
      "text/plain": [
       "<Figure size 720x720 with 2 Axes>"
      ]
     },
     "metadata": {},
     "output_type": "display_data"
    }
   ],
   "source": [
    "corr=X.corr()\n",
    "plt.figure(figsize=(10,10))\n",
    "sns.heatmap(X[corr.index[abs(corr['SalePrice'])>0.4]].corr(),annot=True)"
   ]
  },
  {
   "cell_type": "code",
   "execution_count": 8,
   "metadata": {
    "_uuid": "d84392cc92099acdae6849625547ff5e1d93281e"
   },
   "outputs": [],
   "source": [
    "fillnull={ 'PoolQC':'NoPool', 'MiscFeature':'NoMisc', 'Alley':'NoAlley', 'Fence':'NoFence', 'FireplaceQu':'NoFire' }\n",
    "X.fillna(fillnull,inplace=True)\n",
    "X_test.fillna(fillnull,inplace=True)"
   ]
  },
  {
   "cell_type": "markdown",
   "metadata": {
    "_uuid": "1e559e20e1249d0ecffce36fcbb8d5f30a2fd421"
   },
   "source": [
    "Dropping data points with above grouund living area greater than 4000 square feet."
   ]
  },
  {
   "cell_type": "code",
   "execution_count": 9,
   "metadata": {
    "_uuid": "615e5f27d5bdd545d88e807a0c16e2b95f8b849b"
   },
   "outputs": [],
   "source": [
    "X.drop(X[X.GrLivArea>4000].index.values,inplace=True)"
   ]
  },
  {
   "cell_type": "code",
   "execution_count": 10,
   "metadata": {
    "_uuid": "947a665607b73c0681af5b1fa9ca68fb9bde2ce2"
   },
   "outputs": [
    {
     "data": {
      "text/plain": [
       "Text(0,0.5,'LotFrontage')"
      ]
     },
     "execution_count": 10,
     "metadata": {},
     "output_type": "execute_result"
    },
    {
     "data": {
      "image/png": "[encoded data removed]",
      "text/plain": [
       "<Figure size 432x288 with 1 Axes>"
      ]
     },
     "metadata": {},
     "output_type": "display_data"
    }
   ],
   "source": [
    "plt.plot((X.LotArea)**0.5,X.LotFrontage,'.')\n",
    "plt.xlabel('LotArea')\n",
    "plt.ylabel('LotFrontage')"
   ]
  },
  {
   "cell_type": "code",
   "execution_count": 11,
   "metadata": {
    "_uuid": "d769441333f61988ff43dfd7b1c25407624f122a"
   },
   "outputs": [
    {
     "data": {
      "text/plain": [
       "(1451, 81)"
      ]
     },
     "execution_count": 11,
     "metadata": {},
     "output_type": "execute_result"
    }
   ],
   "source": [
    "X.drop(X[X.LotFrontage>300].index.values,inplace=True)\n",
    "X.drop(X[X.LotArea>100000].index.values,inplace=True)\n",
    "X.shape"
   ]
  },
  {
   "cell_type": "code",
   "execution_count": 12,
   "metadata": {
    "_uuid": "f6fdb41e7ce7207d6858b4ad66a00d6d1c8b3308"
   },
   "outputs": [
    {
     "data": {
      "text/plain": [
       "Text(0,0.5,'LotFrontage')"
      ]
     },
     "execution_count": 12,
     "metadata": {},
     "output_type": "execute_result"
    },
    {
     "data": {
      "image/png": "[encoded data removed]",
      "text/plain": [
       "<Figure size 432x288 with 1 Axes>"
      ]
     },
     "metadata": {},
     "output_type": "display_data"
    }
   ],
   "source": [
    "plt.plot((X.LotArea)**0.5,X.LotFrontage,'.')\n",
    "plt.xlabel('LotArea')\n",
    "plt.ylabel('LotFrontage')"
   ]
  },
  {
   "cell_type": "markdown",
   "metadata": {
    "_uuid": "18a3408c1129f159dd4a8445e3427c14eec628d4"
   },
   "source": [
    "Now filling missing missing values in LotFontage by linear regression between square root of LotArea and LotFrontage by using the logic that area is proportinal to square of length."
   ]
  },
  {
   "cell_type": "code",
   "execution_count": 13,
   "metadata": {
    "_uuid": "50572b5392f4ca2113ac5b41859cd4f8104a5e5e"
   },
   "outputs": [
    {
     "data": {
      "text/plain": [
       "(-2.9214562238702797, 0.7608583491196361)"
      ]
     },
     "execution_count": 13,
     "metadata": {},
     "output_type": "execute_result"
    }
   ],
   "source": [
    "reg=LinearRegression()\n",
    "reg.fit(((X[(X.LotArea<35000) & (X.LotFrontage<200)].LotArea)**0.5).values.reshape(-1,1),X[(X.LotArea<35000) & (X.LotFrontage<200)].LotFrontage.values)\n",
    "reg.intercept_,reg.coef_[0]"
   ]
  },
  {
   "cell_type": "code",
   "execution_count": 14,
   "metadata": {
    "_uuid": "cba9c7d049109665b5fb3e9c16954dd2482bce45"
   },
   "outputs": [],
   "source": [
    "X.loc[X.LotFrontage.isnull(),'LotFrontage']=reg.predict((X[X.LotFrontage.isnull()].LotArea.values.reshape(-1,1))**0.5)\n",
    "X_test.loc[X_test.LotFrontage.isnull(),'LotFrontage']=reg.predict((X_test[X_test.LotFrontage.isnull()].LotArea.values.reshape(-1,1))**0.5)"
   ]
  },
  {
   "cell_type": "code",
   "execution_count": 15,
   "metadata": {
    "_uuid": "a61c9810e7c82fc2dd101d702bcbaf73e56595bf"
   },
   "outputs": [
    {
     "data": {
      "text/plain": [
       "count    1381.000000\n",
       "mean     1977.721217\n",
       "std        26.431175\n",
       "min      1895.000000\n",
       "25%      1959.000000\n",
       "50%      1979.000000\n",
       "75%      2002.000000\n",
       "max      2207.000000\n",
       "Name: GarageYrBlt, dtype: float64"
      ]
     },
     "execution_count": 15,
     "metadata": {},
     "output_type": "execute_result"
    }
   ],
   "source": [
    "X_test.GarageYrBlt.describe()"
   ]
  },
  {
   "cell_type": "markdown",
   "metadata": {
    "_uuid": "58d2a79a3bf526a313db62ca8f2d591b221c3010"
   },
   "source": [
    "Max value of Garbage Year Built is 2207 in test set which is not possible so correcting these values."
   ]
  },
  {
   "cell_type": "code",
   "execution_count": 16,
   "metadata": {
    "_uuid": "473036919b1da23a64a5fb7343903f85c090f1b1"
   },
   "outputs": [
    {
     "data": {
      "text/plain": [
       "1132    2207.0\n",
       "Name: GarageYrBlt, dtype: float64"
      ]
     },
     "execution_count": 16,
     "metadata": {},
     "output_type": "execute_result"
    }
   ],
   "source": [
    "X_test[X_test.GarageYrBlt>2018].GarageYrBlt"
   ]
  },
  {
   "cell_type": "code",
   "execution_count": 17,
   "metadata": {
    "_uuid": "c832b41384949844152d0f3ce14f32e3026c273f"
   },
   "outputs": [],
   "source": [
    "X_test.GarageYrBlt.replace({2207:2007},inplace=True)"
   ]
  },
  {
   "cell_type": "code",
   "execution_count": 18,
   "metadata": {
    "_uuid": "70a25ca12df29a9c872844deaebf491c02da69c5"
   },
   "outputs": [],
   "source": [
    "fillnull={ 'GarageType':'NoGarage', 'GarageFinish':'NoGarage', 'GarageQual':'NoGarage', 'GarageCond':'NoGarage', 'BsmtQual':'NoBsmt', 'BsmtCond':'NoBsmt', 'BsmtExposure':'NoBsmt', 'BsmtFinType1':'NoBsmt', 'BsmtFinType2':'NoBsmt' }\n",
    "X.fillna(fillnull,inplace=True)\n",
    "X_test.fillna(fillnull,inplace=True)"
   ]
  },
  {
   "cell_type": "code",
   "execution_count": 19,
   "metadata": {
    "_uuid": "a9b94b760cdf102dfb1f3216a81ba7ade9cd3b64"
   },
   "outputs": [],
   "source": [
    "X.MasVnrType.fillna(\"None\",inplace=True)\n",
    "X_test.MasVnrType.fillna(\"None\",inplace=True)\n",
    "X.MasVnrArea.fillna(0,inplace=True)\n",
    "X_test.MasVnrArea.fillna(0,inplace=True)\n",
    "X.Electrical.fillna(\"SBrkr\",inplace=True)"
   ]
  },
  {
   "cell_type": "code",
   "execution_count": 20,
   "metadata": {
    "_uuid": "d04704917a5012470a5676454fa654d52aafe10d"
   },
   "outputs": [
    {
     "data": {
      "text/plain": [
       "GarageYrBlt    78\n",
       "dtype: int64"
      ]
     },
     "execution_count": 20,
     "metadata": {},
     "output_type": "execute_result"
    }
   ],
   "source": [
    "fillwithmode=['MSZoning','Utilities','Exterior1st','Exterior2nd','KitchenQual','Functional','SaleType']\n",
    "for column in fillwithmode:\n",
    "    mode=X[column].mode()[0]\n",
    "    X_test[column].fillna(mode,inplace=True)\n",
    "fillwithzero=['BsmtFinSF1','BsmtFinSF2','BsmtUnfSF','TotalBsmtSF','BsmtFullBath','BsmtHalfBath']\n",
    "for column in fillwithzero:\n",
    "    X_test[column].fillna(0,inplace=True)\n",
    "fillwithmedian=['GarageArea','GarageCars']\n",
    "for column in fillwithmedian:\n",
    "    median=X[column].median()\n",
    "    X_test[column].fillna(median,inplace=True)\n",
    "X_test.isnull().sum()[X_test.isnull().sum()>0]"
   ]
  },
  {
   "cell_type": "code",
   "execution_count": 21,
   "metadata": {
    "_uuid": "a0d304a2f570f93a2601e6338f20da55feff1979"
   },
   "outputs": [
    {
     "data": {
      "text/plain": [
       "GarageYrBlt    81\n",
       "dtype: int64"
      ]
     },
     "execution_count": 21,
     "metadata": {},
     "output_type": "execute_result"
    }
   ],
   "source": [
    "X.isnull().sum()[X.isnull().sum()>0]"
   ]
  },
  {
   "cell_type": "markdown",
   "metadata": {
    "_uuid": "9e15c60c3bba7f8ff46d1ca59e59f7e34a4e08e2"
   },
   "source": [
    "No need to fill GarageYrBlt column as it is similar to YearBuilt column except for the houses having no Garage, so we will drop this column in the end."
   ]
  },
  {
   "cell_type": "markdown",
   "metadata": {
    "_uuid": "f8d3db9d378c321f3a1b89f29a0fd79d22ea20ad"
   },
   "source": [
    "**Labeling, creating dummies and feature engineering**"
   ]
  },
  {
   "cell_type": "markdown",
   "metadata": {
    "_uuid": "ad94dd5cc67c09132a7a9044c2e9da54603d2915"
   },
   "source": [
    "In this part we will go through non numeric columns and labelling them in order of importance in case of cardinal featues, creating dummies in case of nominal featues. We will make new features and transforming wherever required."
   ]
  },
  {
   "cell_type": "code",
   "execution_count": 22,
   "metadata": {
    "_uuid": "bbd180899c6f2e044d3ed61b78c9bffdbb4f8535"
   },
   "outputs": [],
   "source": [
    "le=LabelEncoder()\n",
    "dummies=pd.get_dummies(X.MSZoning,prefix='MSZoning')\n",
    "X=pd.concat([X,dummies],axis=1)\n",
    "dummies=pd.get_dummies(X_test.MSZoning,prefix='MSZoning')\n",
    "X_test=pd.concat([X_test,dummies],axis=1)\n",
    "X.loc[:,'Street']=le.fit_transform(X.Street.values)\n",
    "X_test.loc[:,'Street']=le.transform(X_test.Street.values)\n",
    "mapping={'NoAlley':0,'Grvl':1,'Pave':2}\n",
    "X.Alley.replace(mapping,inplace=True)\n",
    "X_test.Alley.replace(mapping,inplace=True)\n",
    "mapping={'IR3':0,'IR2':1,'IR1':2,'Reg':3}\n",
    "X.LotShape.replace(mapping,inplace=True)\n",
    "X_test.LotShape.replace(mapping,inplace=True)\n",
    "mapping={'Low':0,'HLS':1,'Bnk':2,'Lvl':3}\n",
    "X.LandContour.replace(mapping,inplace=True)\n",
    "X_test.LandContour.replace(mapping,inplace=True)\n",
    "X.drop('Utilities',axis=1,inplace=True)\n",
    "X_test.drop('Utilities',axis=1,inplace=True)\n",
    "dummies=pd.get_dummies(X.LotConfig,prefix='LotConfig')\n",
    "X=pd.concat([X,dummies],axis=1)\n",
    "dummies=pd.get_dummies(X_test.LotConfig,prefix='LotConfig')\n",
    "X_test=pd.concat([X_test,dummies],axis=1)\n",
    "X.loc[:,'LandSlope']=le.fit_transform(X.LandSlope.values)\n",
    "X_test.loc[:,'LandSlope']=le.transform(X_test.LandSlope.values)\n",
    "dummies=pd.get_dummies(X.Neighborhood,prefix='Neigh')\n",
    "X=pd.concat([X,dummies],axis=1)\n",
    "dummies=pd.get_dummies(X_test.Neighborhood,prefix='Neigh')\n",
    "X_test=pd.concat([X_test,dummies],axis=1)"
   ]
  },
  {
   "cell_type": "code",
   "execution_count": 23,
   "metadata": {
    "_uuid": "073d923751e96132e5fc79f00d1ca790c49f4897"
   },
   "outputs": [],
   "source": [
    "dummies=pd.get_dummies(X.Condition1,prefix='Cond1')\n",
    "X=pd.concat([X,dummies],axis=1)\n",
    "dummies=pd.get_dummies(X_test.Condition1,prefix='Cond1')\n",
    "X_test=pd.concat([X_test,dummies],axis=1)\n",
    "dummies=pd.get_dummies(X.Condition2,prefix='Cond2')\n",
    "X=pd.concat([X,dummies],axis=1)\n",
    "X['Cond2_RRNe']=0\n",
    "dummies=pd.get_dummies(X_test.Condition2,prefix='Cond2')\n",
    "X_test=pd.concat([X_test,dummies],axis=1)\n",
    "X_test['Cond2_RRAe']=0\n",
    "X_test['Cond2_RRAn']=0\n",
    "X_test['Cond2_RRNn']=0\n",
    "X_test['Cond2_RRNe']=0\n",
    "conditions=X.Condition1.unique()\n",
    "for cond in conditions:\n",
    "    X['Cond_'+cond]=((X['Cond1_'+cond]+X['Cond2_'+cond])>0)*1\n",
    "    X_test['Cond_'+cond]=((X_test['Cond1_'+cond]+X_test['Cond2_'+cond])>0)*1\n",
    "    X.drop(['Cond1_'+cond,'Cond2_'+cond],axis=1,inplace=True)\n",
    "    X_test.drop(['Cond1_'+cond,'Cond2_'+cond],axis=1,inplace=True)"
   ]
  },
  {
   "cell_type": "code",
   "execution_count": 24,
   "metadata": {
    "_uuid": "8ca9aecf27e838d1538e5904cc88214f0d237bd3"
   },
   "outputs": [],
   "source": [
    "dummies=pd.get_dummies(X.BldgType,prefix='BldgType')\n",
    "X=pd.concat([X,dummies],axis=1)\n",
    "dummies=pd.get_dummies(X_test.BldgType,prefix='BldgType')\n",
    "X_test=pd.concat([X_test,dummies],axis=1)\n",
    "dummies=pd.get_dummies(X.HouseStyle,prefix='HouseStyle')\n",
    "X=pd.concat([X,dummies],axis=1)\n",
    "dummies=pd.get_dummies(X_test.HouseStyle,prefix='HouseStyle')\n",
    "dummies['HouseStyle_2.5Fin']=0\n",
    "dummies.sort_index(axis=1,inplace=True)\n",
    "X_test=pd.concat([X_test,dummies],axis=1)\n",
    "dummies=pd.get_dummies(X.RoofStyle,prefix='RoofStyle')\n",
    "X=pd.concat([X,dummies],axis=1)\n",
    "dummies=pd.get_dummies(X_test.RoofStyle,prefix='RoofStyle')\n",
    "X_test=pd.concat([X_test,dummies],axis=1)\n",
    "dummies=pd.get_dummies(X.RoofMatl,prefix='RoofMatl')\n",
    "X=pd.concat([X,dummies],axis=1)\n",
    "dummies=pd.get_dummies(X_test.RoofMatl,prefix='RoofMatl')\n",
    "dummies['RoofMatl_Roll']=0\n",
    "dummies['RoofMatl_Membran']=0\n",
    "dummies['RoofMatl_Metal']=0\n",
    "dummies.sort_index(axis=1,inplace=True)\n",
    "X_test=pd.concat([X_test,dummies],axis=1)"
   ]
  },
  {
   "cell_type": "code",
   "execution_count": 25,
   "metadata": {
    "_uuid": "490b147d65b39fd9e2836d5f91337f710956864b"
   },
   "outputs": [
    {
     "data": {
      "text/plain": [
       "array(['VinylSd', 'MetalSd', 'Wd Sdng', 'HdBoard', 'BrkFace', 'WdShing',\n",
       "       'CemntBd', 'Plywood', 'AsbShng', 'Stucco', 'BrkComm', 'AsphShn',\n",
       "       'Stone', 'ImStucc', 'CBlock'], dtype=object)"
      ]
     },
     "execution_count": 25,
     "metadata": {},
     "output_type": "execute_result"
    }
   ],
   "source": [
    "X.Exterior1st.unique()"
   ]
  },
  {
   "cell_type": "code",
   "execution_count": 26,
   "metadata": {
    "_uuid": "a4b5ddfcc37001e2cf9d8fe4870ee114f7a78d6c"
   },
   "outputs": [
    {
     "data": {
      "text/plain": [
       "array(['VinylSd', 'Wd Sdng', 'HdBoard', 'Plywood', 'MetalSd', 'CemntBd',\n",
       "       'WdShing', 'BrkFace', 'AsbShng', 'BrkComm', 'Stucco', 'AsphShn',\n",
       "       'CBlock'], dtype=object)"
      ]
     },
     "execution_count": 26,
     "metadata": {},
     "output_type": "execute_result"
    }
   ],
   "source": [
    "X_test.Exterior1st.unique()"
   ]
  },
  {
   "cell_type": "code",
   "execution_count": 27,
   "metadata": {
    "_uuid": "28b45f5fb4fd9570786c22bd0ea7bb1e9ad7941b"
   },
   "outputs": [
    {
     "data": {
      "text/plain": [
       "array(['VinylSd', 'MetalSd', 'Wd Shng', 'HdBoard', 'Plywood', 'Wd Sdng',\n",
       "       'CmentBd', 'BrkFace', 'Stucco', 'AsbShng', 'Brk Cmn', 'ImStucc',\n",
       "       'AsphShn', 'Stone', 'Other', 'CBlock'], dtype=object)"
      ]
     },
     "execution_count": 27,
     "metadata": {},
     "output_type": "execute_result"
    }
   ],
   "source": [
    "X.Exterior2nd.unique()"
   ]
  },
  {
   "cell_type": "code",
   "execution_count": 28,
   "metadata": {
    "_uuid": "88c303d2e1ee964f3f3c950431dcee63112302de"
   },
   "outputs": [
    {
     "data": {
      "text/plain": [
       "array(['VinylSd', 'Wd Sdng', 'HdBoard', 'Plywood', 'MetalSd', 'Brk Cmn',\n",
       "       'CmentBd', 'ImStucc', 'Wd Shng', 'AsbShng', 'Stucco', 'CBlock',\n",
       "       'BrkFace', 'AsphShn', 'Stone'], dtype=object)"
      ]
     },
     "execution_count": 28,
     "metadata": {},
     "output_type": "execute_result"
    }
   ],
   "source": [
    "X_test.Exterior2nd.unique()"
   ]
  },
  {
   "cell_type": "markdown",
   "metadata": {
    "_uuid": "35f95b5148dff14275321444c753a291293ec113"
   },
   "source": [
    "As we can see in Exterior2nd feature 'WdShing' is misspelled as 'Wd Shng', 'BrkComm' is misspelled as 'Brk Cmn' & 'CemntBd' is misspelled as 'CmentBd', so we need to correct these in the dataset."
   ]
  },
  {
   "cell_type": "code",
   "execution_count": 29,
   "metadata": {
    "_uuid": "e5de7ea92c7ed1c535c476b0d8b9c64c07f3bfd1"
   },
   "outputs": [
    {
     "data": {
      "text/plain": [
       "<matplotlib.axes._subplots.AxesSubplot at 0x16aa2a53a58>"
      ]
     },
     "execution_count": 29,
     "metadata": {},
     "output_type": "execute_result"
    },
    {
     "data": {
      "image/png": "[encoded data removed]",
      "text/plain": [
       "<Figure size 432x288 with 1 Axes>"
      ]
     },
     "metadata": {},
     "output_type": "display_data"
    }
   ],
   "source": [
    "mapping={ 'Wd Shng':'WdShing','Brk Cmn':'BrkComm','CmentBd':'CemntBd' }\n",
    "X.Exterior2nd.replace(mapping,inplace=True)\n",
    "X_test.Exterior2nd.replace(mapping,inplace=True)\n",
    "a=X.Exterior1st.value_counts()\n",
    "b=X.Exterior2nd.value_counts()\n",
    "c=pd.concat([a,b],axis=1,sort=True)\n",
    "c.plot.bar(stacked=True)"
   ]
  },
  {
   "cell_type": "code",
   "execution_count": 30,
   "metadata": {
    "_uuid": "1a0d5ef152b0ab4dd249703f1684fe880061ec6b"
   },
   "outputs": [],
   "source": [
    "dummies=pd.get_dummies(X.Exterior1st,prefix='Ext1')\n",
    "dummies['Ext1_Other']=0\n",
    "X=pd.concat([X,dummies],axis=1)\n",
    "dummies=pd.get_dummies(X_test.Exterior1st,prefix='Ext1')\n",
    "dummies['Ext1_ImStucc']=0\n",
    "dummies['Ext1_Stone']=0\n",
    "dummies['Ext1_Other']=0\n",
    "X_test=pd.concat([X_test,dummies],axis=1)\n",
    "dummies=pd.get_dummies(X.Exterior2nd,prefix='Ext2')\n",
    "X=pd.concat([X,dummies],axis=1)\n",
    "dummies=pd.get_dummies(X_test.Exterior2nd,prefix='Ext2')\n",
    "dummies['Ext2_Other']=0\n",
    "X_test=pd.concat([X_test,dummies],axis=1)\n",
    "exteriors=X.Exterior2nd.unique()\n",
    "for ext in exteriors:\n",
    "    X['Ext_'+ext]=((X['Ext1_'+ext]+X['Ext2_'+ext])>0)*1\n",
    "    X_test['Ext_'+ext]=((X_test['Ext1_'+ext]+X_test['Ext2_'+ext])>0)*1\n",
    "    X.drop(['Ext1_'+ext,'Ext2_'+ext],axis=1,inplace=True)\n",
    "    X_test.drop(['Ext1_'+ext,'Ext2_'+ext],axis=1,inplace=True)"
   ]
  },
  {
   "cell_type": "code",
   "execution_count": 31,
   "metadata": {
    "_uuid": "6708f8807b7012c513799af59c9fe29465a10c67"
   },
   "outputs": [],
   "source": [
    "dummies=pd.get_dummies(X.MasVnrType,prefix='MVT')\n",
    "X=pd.concat([X,dummies],axis=1)\n",
    "dummies=pd.get_dummies(X_test.MasVnrType,prefix='MVT')\n",
    "X_test=pd.concat([X_test,dummies],axis=1)\n",
    "mapping={ 'Ex':4,'Gd':3,'TA':2,'Fa':1,'Po':0 }\n",
    "X.ExterQual.replace(mapping,inplace=True)\n",
    "X_test.ExterQual.replace(mapping,inplace=True)\n",
    "X.ExterCond.replace(mapping,inplace=True)\n",
    "X_test.ExterCond.replace(mapping,inplace=True)\n",
    "dummies=pd.get_dummies(X.Foundation,prefix='Foundation')\n",
    "X=pd.concat([X,dummies],axis=1)\n",
    "dummies=pd.get_dummies(X_test.Foundation,prefix='Foundation')\n",
    "X_test=pd.concat([X_test,dummies],axis=1)\n",
    "X['NoBsmt']=(X.BsmtQual=='NoBsmt')*1\n",
    "X_test['NoBsmt']=(X_test.BsmtQual=='NoBsmt')*1\n",
    "mapping={ 'Ex':4,'Gd':3,'TA':2,'Fa':1,'Po':0,'NoBsmt':-1 }\n",
    "X.BsmtQual.replace(mapping,inplace=True)\n",
    "X_test.BsmtQual.replace(mapping,inplace=True)\n",
    "X.BsmtCond.replace(mapping,inplace=True)\n",
    "X_test.BsmtCond.replace(mapping,inplace=True)\n",
    "mapping={ 'Gd':4,'Av':3,'Mn':2,'No':1,'NoBsmt':0 }\n",
    "X.BsmtExposure.replace(mapping,inplace=True)\n",
    "X_test.BsmtExposure.replace(mapping,inplace=True)"
   ]
  },
  {
   "cell_type": "markdown",
   "metadata": {
    "_uuid": "9ea49db69f3eda0e432028ebd943a02dfcb4219f"
   },
   "source": [
    "Total finished area of the basement will be equal to the finished area of basement type 1 & 2. So creating a new feature 'BsmtFinSF' equal to the sum of 'BsmtFinSF1' & 'BsmtFinSF2'."
   ]
  },
  {
   "cell_type": "code",
   "execution_count": 32,
   "metadata": {
    "_uuid": "20847a0be779b9f2e98ae7e5b7ebb84ebb5b279e"
   },
   "outputs": [],
   "source": [
    "X['BsmtFinSF']=X.BsmtFinSF1+X.BsmtFinSF2\n",
    "X_test['BsmtFinSF']=X_test.BsmtFinSF1+X_test.BsmtFinSF2"
   ]
  },
  {
   "cell_type": "code",
   "execution_count": 33,
   "metadata": {
    "_uuid": "6b4db806e82d0ad1fd229ab7bbd6df8083bf56fb"
   },
   "outputs": [],
   "source": [
    "mapping={'GLQ':6,'ALQ':5,'BLQ':4,'Rec':3,'LwQ':2,'Unf':1,'NoBsmt':0}\n",
    "X.BsmtFinType1.replace(mapping,inplace=True)\n",
    "X_test.BsmtFinType1.replace(mapping,inplace=True)\n",
    "X.BsmtFinType2.replace(mapping,inplace=True)\n",
    "X_test.BsmtFinType2.replace(mapping,inplace=True)\n",
    "dummies=pd.get_dummies(X.Heating,prefix='Heating')\n",
    "X=pd.concat([X,dummies],axis=1)\n",
    "dummies=pd.get_dummies(X_test.Heating,prefix='Heating')\n",
    "dummies['Heating_OthW']=0\n",
    "dummies['Heating_Floor']=0\n",
    "dummies.sort_index(axis=1,inplace=True)\n",
    "X_test=pd.concat([X_test,dummies],axis=1)\n",
    "mapping={ 'Ex':4,'Gd':3,'TA':2,'Fa':1,'Po':0 }\n",
    "X.HeatingQC.replace(mapping,inplace=True)\n",
    "X_test.HeatingQC.replace(mapping,inplace=True)\n",
    "X.loc[:,'CentralAir']=le.fit_transform(X.CentralAir.values)\n",
    "X_test.loc[:,'CentralAir']=le.transform(X_test.CentralAir.values)\n",
    "dummies=pd.get_dummies(X.Electrical,prefix='Electrical')\n",
    "X=pd.concat([X,dummies],axis=1)\n",
    "dummies=pd.get_dummies(X_test.Electrical,prefix='Electrical')\n",
    "dummies['Electrical_Mix']=0\n",
    "dummies.sort_index(axis=1,inplace=True)\n",
    "X_test=pd.concat([X_test,dummies],axis=1)"
   ]
  },
  {
   "cell_type": "markdown",
   "metadata": {
    "_uuid": "0460168be6c05149be25ab650585bda6d1576e3c"
   },
   "source": [
    "Creating a new feature 'TotalSF' equal to sum of area of all floors including basement."
   ]
  },
  {
   "cell_type": "code",
   "execution_count": 34,
   "metadata": {
    "_uuid": "914ee633976f96deda8ef255c1f0ca70dfa8406a"
   },
   "outputs": [],
   "source": [
    "X['TotalSF']=X['TotalBsmtSF']+X['1stFlrSF']+X['2ndFlrSF']\n",
    "X_test['TotalSF']=X_test['TotalBsmtSF']+X_test['1stFlrSF']+X_test['2ndFlrSF']"
   ]
  },
  {
   "cell_type": "code",
   "execution_count": 35,
   "metadata": {
    "_uuid": "df1bc427ad7fa0babf1a3682bee2f62c7da9ea23"
   },
   "outputs": [
    {
     "data": {
      "text/html": [
       "<div>\n",
       "<style scoped>\n",
       "    .dataframe tbody tr th:only-of-type {\n",
       "        vertical-align: middle;\n",
       "    }\n",
       "\n",
       "    .dataframe tbody tr th {\n",
       "        vertical-align: top;\n",
       "    }\n",
       "\n",
       "    .dataframe thead th {\n",
       "        text-align: right;\n",
       "    }\n",
       "</style>\n",
       "<table border=\"1\" class=\"dataframe\">\n",
       "  <thead>\n",
       "    <tr style=\"text-align: right;\">\n",
       "      <th></th>\n",
       "      <th>Id</th>\n",
       "      <th>MSSubClass</th>\n",
       "      <th>MSZoning</th>\n",
       "      <th>LotFrontage</th>\n",
       "      <th>LotArea</th>\n",
       "      <th>Street</th>\n",
       "      <th>Alley</th>\n",
       "      <th>LotShape</th>\n",
       "      <th>LandContour</th>\n",
       "      <th>LotConfig</th>\n",
       "      <th>...</th>\n",
       "      <th>SaleType_ConLw</th>\n",
       "      <th>SaleType_New</th>\n",
       "      <th>SaleType_Oth</th>\n",
       "      <th>SaleType_WD</th>\n",
       "      <th>SaleCondition_Abnorml</th>\n",
       "      <th>SaleCondition_AdjLand</th>\n",
       "      <th>SaleCondition_Alloca</th>\n",
       "      <th>SaleCondition_Family</th>\n",
       "      <th>SaleCondition_Normal</th>\n",
       "      <th>SaleCondition_Partial</th>\n",
       "    </tr>\n",
       "  </thead>\n",
       "  <tbody>\n",
       "    <tr>\n",
       "      <th>0</th>\n",
       "      <td>1</td>\n",
       "      <td>60</td>\n",
       "      <td>RL</td>\n",
       "      <td>65.0</td>\n",
       "      <td>8450</td>\n",
       "      <td>1</td>\n",
       "      <td>0</td>\n",
       "      <td>3</td>\n",
       "      <td>3</td>\n",
       "      <td>Inside</td>\n",
       "      <td>...</td>\n",
       "      <td>0</td>\n",
       "      <td>0</td>\n",
       "      <td>0</td>\n",
       "      <td>1</td>\n",
       "      <td>0</td>\n",
       "      <td>0</td>\n",
       "      <td>0</td>\n",
       "      <td>0</td>\n",
       "      <td>1</td>\n",
       "      <td>0</td>\n",
       "    </tr>\n",
       "    <tr>\n",
       "      <th>1</th>\n",
       "      <td>2</td>\n",
       "      <td>20</td>\n",
       "      <td>RL</td>\n",
       "      <td>80.0</td>\n",
       "      <td>9600</td>\n",
       "      <td>1</td>\n",
       "      <td>0</td>\n",
       "      <td>3</td>\n",
       "      <td>3</td>\n",
       "      <td>FR2</td>\n",
       "      <td>...</td>\n",
       "      <td>0</td>\n",
       "      <td>0</td>\n",
       "      <td>0</td>\n",
       "      <td>1</td>\n",
       "      <td>0</td>\n",
       "      <td>0</td>\n",
       "      <td>0</td>\n",
       "      <td>0</td>\n",
       "      <td>1</td>\n",
       "      <td>0</td>\n",
       "    </tr>\n",
       "    <tr>\n",
       "      <th>2</th>\n",
       "      <td>3</td>\n",
       "      <td>60</td>\n",
       "      <td>RL</td>\n",
       "      <td>68.0</td>\n",
       "      <td>11250</td>\n",
       "      <td>1</td>\n",
       "      <td>0</td>\n",
       "      <td>2</td>\n",
       "      <td>3</td>\n",
       "      <td>Inside</td>\n",
       "      <td>...</td>\n",
       "      <td>0</td>\n",
       "      <td>0</td>\n",
       "      <td>0</td>\n",
       "      <td>1</td>\n",
       "      <td>0</td>\n",
       "      <td>0</td>\n",
       "      <td>0</td>\n",
       "      <td>0</td>\n",
       "      <td>1</td>\n",
       "      <td>0</td>\n",
       "    </tr>\n",
       "    <tr>\n",
       "      <th>3</th>\n",
       "      <td>4</td>\n",
       "      <td>70</td>\n",
       "      <td>RL</td>\n",
       "      <td>60.0</td>\n",
       "      <td>9550</td>\n",
       "      <td>1</td>\n",
       "      <td>0</td>\n",
       "      <td>2</td>\n",
       "      <td>3</td>\n",
       "      <td>Corner</td>\n",
       "      <td>...</td>\n",
       "      <td>0</td>\n",
       "      <td>0</td>\n",
       "      <td>0</td>\n",
       "      <td>1</td>\n",
       "      <td>1</td>\n",
       "      <td>0</td>\n",
       "      <td>0</td>\n",
       "      <td>0</td>\n",
       "      <td>0</td>\n",
       "      <td>0</td>\n",
       "    </tr>\n",
       "    <tr>\n",
       "      <th>4</th>\n",
       "      <td>5</td>\n",
       "      <td>60</td>\n",
       "      <td>RL</td>\n",
       "      <td>84.0</td>\n",
       "      <td>14260</td>\n",
       "      <td>1</td>\n",
       "      <td>0</td>\n",
       "      <td>2</td>\n",
       "      <td>3</td>\n",
       "      <td>FR2</td>\n",
       "      <td>...</td>\n",
       "      <td>0</td>\n",
       "      <td>0</td>\n",
       "      <td>0</td>\n",
       "      <td>1</td>\n",
       "      <td>0</td>\n",
       "      <td>0</td>\n",
       "      <td>0</td>\n",
       "      <td>0</td>\n",
       "      <td>1</td>\n",
       "      <td>0</td>\n",
       "    </tr>\n",
       "  </tbody>\n",
       "</table>\n",
       "<p>5 rows × 235 columns</p>\n",
       "</div>"
      ],
      "text/plain": [
       "   Id  MSSubClass MSZoning  LotFrontage  LotArea  Street  Alley  LotShape  \\\n",
       "0   1          60       RL         65.0     8450       1      0         3   \n",
       "1   2          20       RL         80.0     9600       1      0         3   \n",
       "2   3          60       RL         68.0    11250       1      0         2   \n",
       "3   4          70       RL         60.0     9550       1      0         2   \n",
       "4   5          60       RL         84.0    14260       1      0         2   \n",
       "\n",
       "   LandContour LotConfig          ...            SaleType_ConLw SaleType_New  \\\n",
       "0            3    Inside          ...                         0            0   \n",
       "1            3       FR2          ...                         0            0   \n",
       "2            3    Inside          ...                         0            0   \n",
       "3            3    Corner          ...                         0            0   \n",
       "4            3       FR2          ...                         0            0   \n",
       "\n",
       "  SaleType_Oth SaleType_WD SaleCondition_Abnorml SaleCondition_AdjLand  \\\n",
       "0            0           1                     0                     0   \n",
       "1            0           1                     0                     0   \n",
       "2            0           1                     0                     0   \n",
       "3            0           1                     1                     0   \n",
       "4            0           1                     0                     0   \n",
       "\n",
       "   SaleCondition_Alloca  SaleCondition_Family  SaleCondition_Normal  \\\n",
       "0                     0                     0                     1   \n",
       "1                     0                     0                     1   \n",
       "2                     0                     0                     1   \n",
       "3                     0                     0                     0   \n",
       "4                     0                     0                     1   \n",
       "\n",
       "   SaleCondition_Partial  \n",
       "0                      0  \n",
       "1                      0  \n",
       "2                      0  \n",
       "3                      0  \n",
       "4                      0  \n",
       "\n",
       "[5 rows x 235 columns]"
      ]
     },
     "execution_count": 35,
     "metadata": {},
     "output_type": "execute_result"
    }
   ],
   "source": [
    "mapping={ 'Ex':4,'Gd':3,'TA':2,'Fa':1,'Po':0 }\n",
    "X.KitchenQual.replace(mapping,inplace=True)\n",
    "X_test.KitchenQual.replace(mapping,inplace=True)\n",
    "mapping= {'Maj1':2,'Maj2':1,'Min1':5,'Min2':4,'Mod':3,'Sev':0,'Typ':6}\n",
    "X.Functional.replace(mapping,inplace=True)\n",
    "X_test.Functional.replace(mapping,inplace=True)\n",
    "mapping={ 'Ex':4,'Gd':3,'TA':2,'Fa':1,'Po':0,'NoFire':-1 }\n",
    "X.FireplaceQu.replace(mapping,inplace=True)\n",
    "X_test.FireplaceQu.replace(mapping,inplace=True)\n",
    "X['NoGarage']=(X.GarageType=='NoGarage')*1\n",
    "X_test['NoGarage']=(X_test.GarageType=='NoGarage')*1\n",
    "dummies=pd.get_dummies(X.GarageType,prefix='GarageType')\n",
    "X=pd.concat([X,dummies],axis=1)\n",
    "dummies=pd.get_dummies(X_test.GarageType,prefix='GarageType')\n",
    "X_test=pd.concat([X_test,dummies],axis=1)\n",
    "mapping={'Fin':3,'RFn':2,'Unf':1,'NoGarage':0}\n",
    "X.GarageFinish.replace(mapping,inplace=True)\n",
    "X_test.GarageFinish.replace(mapping,inplace=True)\n",
    "mapping={ 'Ex':4,'Gd':3,'TA':2,'Fa':1,'Po':0,'NoGarage':-1 }\n",
    "X.GarageQual.replace(mapping,inplace=True)\n",
    "X_test.GarageQual.replace(mapping,inplace=True)\n",
    "X.GarageCond.replace(mapping,inplace=True)\n",
    "X_test.GarageCond.replace(mapping,inplace=True)\n",
    "X.loc[:,'PavedDrive']=le.fit_transform(X.PavedDrive.values)\n",
    "X_test.loc[:,'PavedDrive']=le.transform(X_test.PavedDrive.values)\n",
    "mapping={'Ex':3,'Gd':2,'Fa':1,'NoPool':0}\n",
    "X.PoolQC.replace(mapping,inplace=True)\n",
    "X_test.PoolQC.replace(mapping,inplace=True)\n",
    "dummies=pd.get_dummies(X.MiscFeature,prefix='Misc')\n",
    "X=pd.concat([X,dummies],axis=1)\n",
    "dummies=pd.get_dummies(X_test.MiscFeature,prefix='Misc')\n",
    "dummies['Misc_TenC']=0\n",
    "X_test=pd.concat([X_test,dummies],axis=1)\n",
    "mapping={'GdPrv':4,'MnPrv':3,'GdWo':2,'MnWw':1,'NoFence':0}\n",
    "X.Fence.replace(mapping,inplace=True)\n",
    "X_test.Fence.replace(mapping,inplace=True)\n",
    "mapping={1:'Jan',2:'Feb',3:'Mar',4:'Apr',5:'May',6:'Jun',7:'Jul',8:'Aug',9:'Sep',10:'Oct',11:'Nov',12:'Dec'}\n",
    "X.MoSold.replace(mapping,inplace=True)\n",
    "X_test.MoSold.replace(mapping,inplace=True)\n",
    "dummies=pd.get_dummies(X.MoSold,prefix='MoSold')\n",
    "X=pd.concat([X,dummies],axis=1)\n",
    "dummies=pd.get_dummies(X_test.MoSold,prefix='MoSold')\n",
    "X_test=pd.concat([X_test,dummies],axis=1)\n",
    "dummies=pd.get_dummies(X.YrSold,prefix='YrSold')\n",
    "X=pd.concat([X,dummies],axis=1)\n",
    "dummies=pd.get_dummies(X_test.YrSold,prefix='YrSold')\n",
    "X_test=pd.concat([X_test,dummies],axis=1)\n",
    "dummies=pd.get_dummies(X.SaleType,prefix='SaleType')\n",
    "X=pd.concat([X,dummies],axis=1)\n",
    "dummies=pd.get_dummies(X_test.SaleType,prefix='SaleType')\n",
    "X_test=pd.concat([X_test,dummies],axis=1)\n",
    "dummies=pd.get_dummies(X.SaleCondition,prefix='SaleCondition')\n",
    "X=pd.concat([X,dummies],axis=1)\n",
    "dummies=pd.get_dummies(X_test.SaleCondition,prefix='SaleCondition')\n",
    "X_test=pd.concat([X_test,dummies],axis=1)\n",
    "X.head()"
   ]
  },
  {
   "cell_type": "code",
   "execution_count": 36,
   "metadata": {
    "_uuid": "3dab026832f247392ac0c0bbbf20efdc55f30613"
   },
   "outputs": [
    {
     "data": {
      "text/html": [
       "<div>\n",
       "<style scoped>\n",
       "    .dataframe tbody tr th:only-of-type {\n",
       "        vertical-align: middle;\n",
       "    }\n",
       "\n",
       "    .dataframe tbody tr th {\n",
       "        vertical-align: top;\n",
       "    }\n",
       "\n",
       "    .dataframe thead th {\n",
       "        text-align: right;\n",
       "    }\n",
       "</style>\n",
       "<table border=\"1\" class=\"dataframe\">\n",
       "  <thead>\n",
       "    <tr style=\"text-align: right;\">\n",
       "      <th></th>\n",
       "      <th>Id</th>\n",
       "      <th>MSSubClass</th>\n",
       "      <th>MSZoning</th>\n",
       "      <th>LotFrontage</th>\n",
       "      <th>LotArea</th>\n",
       "      <th>Street</th>\n",
       "      <th>Alley</th>\n",
       "      <th>LotShape</th>\n",
       "      <th>LandContour</th>\n",
       "      <th>LotConfig</th>\n",
       "      <th>...</th>\n",
       "      <th>SaleType_ConLw</th>\n",
       "      <th>SaleType_New</th>\n",
       "      <th>SaleType_Oth</th>\n",
       "      <th>SaleType_WD</th>\n",
       "      <th>SaleCondition_Abnorml</th>\n",
       "      <th>SaleCondition_AdjLand</th>\n",
       "      <th>SaleCondition_Alloca</th>\n",
       "      <th>SaleCondition_Family</th>\n",
       "      <th>SaleCondition_Normal</th>\n",
       "      <th>SaleCondition_Partial</th>\n",
       "    </tr>\n",
       "  </thead>\n",
       "  <tbody>\n",
       "    <tr>\n",
       "      <th>0</th>\n",
       "      <td>1461</td>\n",
       "      <td>20</td>\n",
       "      <td>RH</td>\n",
       "      <td>80.0</td>\n",
       "      <td>11622</td>\n",
       "      <td>1</td>\n",
       "      <td>0</td>\n",
       "      <td>3</td>\n",
       "      <td>3</td>\n",
       "      <td>Inside</td>\n",
       "      <td>...</td>\n",
       "      <td>0</td>\n",
       "      <td>0</td>\n",
       "      <td>0</td>\n",
       "      <td>1</td>\n",
       "      <td>0</td>\n",
       "      <td>0</td>\n",
       "      <td>0</td>\n",
       "      <td>0</td>\n",
       "      <td>1</td>\n",
       "      <td>0</td>\n",
       "    </tr>\n",
       "    <tr>\n",
       "      <th>1</th>\n",
       "      <td>1462</td>\n",
       "      <td>20</td>\n",
       "      <td>RL</td>\n",
       "      <td>81.0</td>\n",
       "      <td>14267</td>\n",
       "      <td>1</td>\n",
       "      <td>0</td>\n",
       "      <td>2</td>\n",
       "      <td>3</td>\n",
       "      <td>Corner</td>\n",
       "      <td>...</td>\n",
       "      <td>0</td>\n",
       "      <td>0</td>\n",
       "      <td>0</td>\n",
       "      <td>1</td>\n",
       "      <td>0</td>\n",
       "      <td>0</td>\n",
       "      <td>0</td>\n",
       "      <td>0</td>\n",
       "      <td>1</td>\n",
       "      <td>0</td>\n",
       "    </tr>\n",
       "    <tr>\n",
       "      <th>2</th>\n",
       "      <td>1463</td>\n",
       "      <td>60</td>\n",
       "      <td>RL</td>\n",
       "      <td>74.0</td>\n",
       "      <td>13830</td>\n",
       "      <td>1</td>\n",
       "      <td>0</td>\n",
       "      <td>2</td>\n",
       "      <td>3</td>\n",
       "      <td>Inside</td>\n",
       "      <td>...</td>\n",
       "      <td>0</td>\n",
       "      <td>0</td>\n",
       "      <td>0</td>\n",
       "      <td>1</td>\n",
       "      <td>0</td>\n",
       "      <td>0</td>\n",
       "      <td>0</td>\n",
       "      <td>0</td>\n",
       "      <td>1</td>\n",
       "      <td>0</td>\n",
       "    </tr>\n",
       "    <tr>\n",
       "      <th>3</th>\n",
       "      <td>1464</td>\n",
       "      <td>60</td>\n",
       "      <td>RL</td>\n",
       "      <td>78.0</td>\n",
       "      <td>9978</td>\n",
       "      <td>1</td>\n",
       "      <td>0</td>\n",
       "      <td>2</td>\n",
       "      <td>3</td>\n",
       "      <td>Inside</td>\n",
       "      <td>...</td>\n",
       "      <td>0</td>\n",
       "      <td>0</td>\n",
       "      <td>0</td>\n",
       "      <td>1</td>\n",
       "      <td>0</td>\n",
       "      <td>0</td>\n",
       "      <td>0</td>\n",
       "      <td>0</td>\n",
       "      <td>1</td>\n",
       "      <td>0</td>\n",
       "    </tr>\n",
       "    <tr>\n",
       "      <th>4</th>\n",
       "      <td>1465</td>\n",
       "      <td>120</td>\n",
       "      <td>RL</td>\n",
       "      <td>43.0</td>\n",
       "      <td>5005</td>\n",
       "      <td>1</td>\n",
       "      <td>0</td>\n",
       "      <td>2</td>\n",
       "      <td>1</td>\n",
       "      <td>Inside</td>\n",
       "      <td>...</td>\n",
       "      <td>0</td>\n",
       "      <td>0</td>\n",
       "      <td>0</td>\n",
       "      <td>1</td>\n",
       "      <td>0</td>\n",
       "      <td>0</td>\n",
       "      <td>0</td>\n",
       "      <td>0</td>\n",
       "      <td>1</td>\n",
       "      <td>0</td>\n",
       "    </tr>\n",
       "  </tbody>\n",
       "</table>\n",
       "<p>5 rows × 234 columns</p>\n",
       "</div>"
      ],
      "text/plain": [
       "     Id  MSSubClass MSZoning  LotFrontage  LotArea  Street  Alley  LotShape  \\\n",
       "0  1461          20       RH         80.0    11622       1      0         3   \n",
       "1  1462          20       RL         81.0    14267       1      0         2   \n",
       "2  1463          60       RL         74.0    13830       1      0         2   \n",
       "3  1464          60       RL         78.0     9978       1      0         2   \n",
       "4  1465         120       RL         43.0     5005       1      0         2   \n",
       "\n",
       "   LandContour LotConfig          ...            SaleType_ConLw SaleType_New  \\\n",
       "0            3    Inside          ...                         0            0   \n",
       "1            3    Corner          ...                         0            0   \n",
       "2            3    Inside          ...                         0            0   \n",
       "3            3    Inside          ...                         0            0   \n",
       "4            1    Inside          ...                         0            0   \n",
       "\n",
       "  SaleType_Oth SaleType_WD SaleCondition_Abnorml SaleCondition_AdjLand  \\\n",
       "0            0           1                     0                     0   \n",
       "1            0           1                     0                     0   \n",
       "2            0           1                     0                     0   \n",
       "3            0           1                     0                     0   \n",
       "4            0           1                     0                     0   \n",
       "\n",
       "   SaleCondition_Alloca  SaleCondition_Family  SaleCondition_Normal  \\\n",
       "0                     0                     0                     1   \n",
       "1                     0                     0                     1   \n",
       "2                     0                     0                     1   \n",
       "3                     0                     0                     1   \n",
       "4                     0                     0                     1   \n",
       "\n",
       "   SaleCondition_Partial  \n",
       "0                      0  \n",
       "1                      0  \n",
       "2                      0  \n",
       "3                      0  \n",
       "4                      0  \n",
       "\n",
       "[5 rows x 234 columns]"
      ]
     },
     "execution_count": 36,
     "metadata": {},
     "output_type": "execute_result"
    }
   ],
   "source": [
    "X_test.head()"
   ]
  },
  {
   "cell_type": "markdown",
   "metadata": {
    "_uuid": "4a08769077b54a8e3d8b6c2f7c131d61b8d35063"
   },
   "source": [
    "We will now delete the columns which are not required now."
   ]
  },
  {
   "cell_type": "code",
   "execution_count": 37,
   "metadata": {
    "_uuid": "b7ac3ecb2067c320af969bc03cd0b68964406e3c"
   },
   "outputs": [],
   "source": [
    "column_drop=['Id','MSZoning','LotConfig','Condition1','Condition2','HouseStyle','RoofStyle','Exterior1st','Exterior2nd','MasVnrType','Foundation','Electrical','GarageType','MiscFeature','YrSold','SaleType','SaleCondition','GarageYrBlt','Neighborhood','BldgType','RoofMatl','Heating','MoSold']\n",
    "X.drop(column_drop,axis=1,inplace=True)\n",
    "X_test.drop(column_drop,axis=1,inplace=True)\n",
    "Y=X.SalePrice\n",
    "X.drop('SalePrice',axis=1,inplace=True)"
   ]
  },
  {
   "cell_type": "code",
   "execution_count": 38,
   "metadata": {
    "_uuid": "39fe544c1df0363f45131aac70f2b4697149951e"
   },
   "outputs": [
    {
     "data": {
      "text/plain": [
       "1.5786695664048098"
      ]
     },
     "execution_count": 38,
     "metadata": {},
     "output_type": "execute_result"
    }
   ],
   "source": [
    "skew(Y)"
   ]
  },
  {
   "cell_type": "markdown",
   "metadata": {
    "_uuid": "1471f129fe59f1b1879fb467442bca33dd9a7200"
   },
   "source": [
    "As we can see our target variable Y is highly skewed, so we will apply log transformation on Y.\n",
    "\n",
    "This is how log transformation of some variable x is done :-\n",
    "\n",
    "**x' = log(1+x)**"
   ]
  },
  {
   "cell_type": "code",
   "execution_count": 39,
   "metadata": {
    "_uuid": "d1cfb842a5ed12bc172d18c55b4cbc921753babc"
   },
   "outputs": [
    {
     "data": {
      "text/plain": [
       "0.0688217304305507"
      ]
     },
     "execution_count": 39,
     "metadata": {},
     "output_type": "execute_result"
    }
   ],
   "source": [
    "Y=np.log1p(Y)\n",
    "skew(Y)"
   ]
  },
  {
   "cell_type": "markdown",
   "metadata": {
    "_uuid": "920bde732fd05edb060905f1af268e0c2b156be1"
   },
   "source": [
    "We can see above that skewness of Y is reduced after applying log transformation."
   ]
  },
  {
   "cell_type": "markdown",
   "metadata": {
    "_uuid": "78ab650e8b6f071c7ff00eaa0677910cf2888cf2"
   },
   "source": [
    "**Box-Cox Transformation :-**\n",
    "\n",
    "We will now apply box cox transformation on features except for the dummy ones. Purpose of the transformation is to reduce skewness of features for modelling. These features have index 0 to 55,153 &165."
   ]
  },
  {
   "cell_type": "code",
   "execution_count": 40,
   "metadata": {
    "_uuid": "a2987b56b4bfc038bd9a124eb71419aba2e3fec2"
   },
   "outputs": [
    {
     "data": {
      "text/html": [
       "<div>\n",
       "<style scoped>\n",
       "    .dataframe tbody tr th:only-of-type {\n",
       "        vertical-align: middle;\n",
       "    }\n",
       "\n",
       "    .dataframe tbody tr th {\n",
       "        vertical-align: top;\n",
       "    }\n",
       "\n",
       "    .dataframe thead th {\n",
       "        text-align: right;\n",
       "    }\n",
       "</style>\n",
       "<table border=\"1\" class=\"dataframe\">\n",
       "  <thead>\n",
       "    <tr style=\"text-align: right;\">\n",
       "      <th></th>\n",
       "      <th>Skew</th>\n",
       "    </tr>\n",
       "  </thead>\n",
       "  <tbody>\n",
       "    <tr>\n",
       "      <th>MiscVal</th>\n",
       "      <td>24.444051</td>\n",
       "    </tr>\n",
       "    <tr>\n",
       "      <th>PoolQC</th>\n",
       "      <td>20.625942</td>\n",
       "    </tr>\n",
       "    <tr>\n",
       "      <th>PoolArea</th>\n",
       "      <td>17.474180</td>\n",
       "    </tr>\n",
       "    <tr>\n",
       "      <th>3SsnPorch</th>\n",
       "      <td>10.261120</td>\n",
       "    </tr>\n",
       "    <tr>\n",
       "      <th>LowQualFinSF</th>\n",
       "      <td>8.973279</td>\n",
       "    </tr>\n",
       "  </tbody>\n",
       "</table>\n",
       "</div>"
      ],
      "text/plain": [
       "                   Skew\n",
       "MiscVal       24.444051\n",
       "PoolQC        20.625942\n",
       "PoolArea      17.474180\n",
       "3SsnPorch     10.261120\n",
       "LowQualFinSF   8.973279"
      ]
     },
     "execution_count": 40,
     "metadata": {},
     "output_type": "execute_result"
    }
   ],
   "source": [
    "lst=list(range(56))\n",
    "to_extend=[153,165]\n",
    "lst.extend(to_extend)\n",
    "skew_features=X.iloc[:,lst].apply(lambda x:skew(x)).sort_values(ascending=False)\n",
    "skew_features_test=X_test.iloc[:,lst].apply(lambda x:skew(x)).sort_values(ascending=False)\n",
    "skewness = pd.DataFrame({'Skew' :skew_features})\n",
    "skewness_test = pd.DataFrame({'Skew' :skew_features_test})\n",
    "skewness.head()"
   ]
  },
  {
   "cell_type": "code",
   "execution_count": 41,
   "metadata": {
    "_uuid": "466503c46660e909cedd74d5f47e6e426db0a287"
   },
   "outputs": [
    {
     "data": {
      "text/plain": [
       "((1451, 211), (1459, 211))"
      ]
     },
     "execution_count": 41,
     "metadata": {},
     "output_type": "execute_result"
    }
   ],
   "source": [
    "skewness = skewness[abs(skewness) > 0.5].dropna()\n",
    "feats=skewness.index.values.tolist()\n",
    "lam=0.1\n",
    "for feat in feats:\n",
    "    X[feat]=boxcox1p(X[feat], lam)\n",
    "    X_test[feat]=boxcox1p(X_test[feat], lam)\n",
    "X.shape,X_test.shape"
   ]
  },
  {
   "cell_type": "code",
   "execution_count": 42,
   "metadata": {
    "_uuid": "92123e6b4cb8e4eca84b5f483b52cc7f72c1b46c"
   },
   "outputs": [
    {
     "data": {
      "text/html": [
       "<div>\n",
       "<style scoped>\n",
       "    .dataframe tbody tr th:only-of-type {\n",
       "        vertical-align: middle;\n",
       "    }\n",
       "\n",
       "    .dataframe tbody tr th {\n",
       "        vertical-align: top;\n",
       "    }\n",
       "\n",
       "    .dataframe thead th {\n",
       "        text-align: right;\n",
       "    }\n",
       "</style>\n",
       "<table border=\"1\" class=\"dataframe\">\n",
       "  <thead>\n",
       "    <tr style=\"text-align: right;\">\n",
       "      <th></th>\n",
       "      <th>MSSubClass</th>\n",
       "      <th>LotFrontage</th>\n",
       "      <th>LotArea</th>\n",
       "      <th>Street</th>\n",
       "      <th>Alley</th>\n",
       "      <th>LotShape</th>\n",
       "      <th>LandContour</th>\n",
       "      <th>LandSlope</th>\n",
       "      <th>OverallQual</th>\n",
       "      <th>OverallCond</th>\n",
       "      <th>...</th>\n",
       "      <th>SaleType_ConLw</th>\n",
       "      <th>SaleType_New</th>\n",
       "      <th>SaleType_Oth</th>\n",
       "      <th>SaleType_WD</th>\n",
       "      <th>SaleCondition_Abnorml</th>\n",
       "      <th>SaleCondition_AdjLand</th>\n",
       "      <th>SaleCondition_Alloca</th>\n",
       "      <th>SaleCondition_Family</th>\n",
       "      <th>SaleCondition_Normal</th>\n",
       "      <th>SaleCondition_Partial</th>\n",
       "    </tr>\n",
       "  </thead>\n",
       "  <tbody>\n",
       "    <tr>\n",
       "      <th>0</th>\n",
       "      <td>5.084572</td>\n",
       "      <td>5.203879</td>\n",
       "      <td>14.699651</td>\n",
       "      <td>0.717735</td>\n",
       "      <td>0.0</td>\n",
       "      <td>1.486984</td>\n",
       "      <td>1.486984</td>\n",
       "      <td>0.0</td>\n",
       "      <td>7</td>\n",
       "      <td>1.962312</td>\n",
       "      <td>...</td>\n",
       "      <td>0</td>\n",
       "      <td>0</td>\n",
       "      <td>0</td>\n",
       "      <td>1</td>\n",
       "      <td>0</td>\n",
       "      <td>0</td>\n",
       "      <td>0</td>\n",
       "      <td>0</td>\n",
       "      <td>1</td>\n",
       "      <td>0</td>\n",
       "    </tr>\n",
       "    <tr>\n",
       "      <th>1</th>\n",
       "      <td>3.558821</td>\n",
       "      <td>5.518456</td>\n",
       "      <td>15.016794</td>\n",
       "      <td>0.717735</td>\n",
       "      <td>0.0</td>\n",
       "      <td>1.486984</td>\n",
       "      <td>1.486984</td>\n",
       "      <td>0.0</td>\n",
       "      <td>6</td>\n",
       "      <td>2.457309</td>\n",
       "      <td>...</td>\n",
       "      <td>0</td>\n",
       "      <td>0</td>\n",
       "      <td>0</td>\n",
       "      <td>1</td>\n",
       "      <td>0</td>\n",
       "      <td>0</td>\n",
       "      <td>0</td>\n",
       "      <td>0</td>\n",
       "      <td>1</td>\n",
       "      <td>0</td>\n",
       "    </tr>\n",
       "    <tr>\n",
       "      <th>2</th>\n",
       "      <td>5.084572</td>\n",
       "      <td>5.271613</td>\n",
       "      <td>15.416697</td>\n",
       "      <td>0.717735</td>\n",
       "      <td>0.0</td>\n",
       "      <td>1.161232</td>\n",
       "      <td>1.486984</td>\n",
       "      <td>0.0</td>\n",
       "      <td>7</td>\n",
       "      <td>1.962312</td>\n",
       "      <td>...</td>\n",
       "      <td>0</td>\n",
       "      <td>0</td>\n",
       "      <td>0</td>\n",
       "      <td>1</td>\n",
       "      <td>0</td>\n",
       "      <td>0</td>\n",
       "      <td>0</td>\n",
       "      <td>0</td>\n",
       "      <td>1</td>\n",
       "      <td>0</td>\n",
       "    </tr>\n",
       "    <tr>\n",
       "      <th>3</th>\n",
       "      <td>5.315312</td>\n",
       "      <td>5.084572</td>\n",
       "      <td>15.003735</td>\n",
       "      <td>0.717735</td>\n",
       "      <td>0.0</td>\n",
       "      <td>1.161232</td>\n",
       "      <td>1.486984</td>\n",
       "      <td>0.0</td>\n",
       "      <td>7</td>\n",
       "      <td>1.962312</td>\n",
       "      <td>...</td>\n",
       "      <td>0</td>\n",
       "      <td>0</td>\n",
       "      <td>0</td>\n",
       "      <td>1</td>\n",
       "      <td>1</td>\n",
       "      <td>0</td>\n",
       "      <td>0</td>\n",
       "      <td>0</td>\n",
       "      <td>0</td>\n",
       "      <td>0</td>\n",
       "    </tr>\n",
       "    <tr>\n",
       "      <th>4</th>\n",
       "      <td>5.084572</td>\n",
       "      <td>5.593439</td>\n",
       "      <td>16.026454</td>\n",
       "      <td>0.717735</td>\n",
       "      <td>0.0</td>\n",
       "      <td>1.161232</td>\n",
       "      <td>1.486984</td>\n",
       "      <td>0.0</td>\n",
       "      <td>8</td>\n",
       "      <td>1.962312</td>\n",
       "      <td>...</td>\n",
       "      <td>0</td>\n",
       "      <td>0</td>\n",
       "      <td>0</td>\n",
       "      <td>1</td>\n",
       "      <td>0</td>\n",
       "      <td>0</td>\n",
       "      <td>0</td>\n",
       "      <td>0</td>\n",
       "      <td>1</td>\n",
       "      <td>0</td>\n",
       "    </tr>\n",
       "  </tbody>\n",
       "</table>\n",
       "<p>5 rows × 211 columns</p>\n",
       "</div>"
      ],
      "text/plain": [
       "   MSSubClass  LotFrontage    LotArea    Street  Alley  LotShape  LandContour  \\\n",
       "0    5.084572     5.203879  14.699651  0.717735    0.0  1.486984     1.486984   \n",
       "1    3.558821     5.518456  15.016794  0.717735    0.0  1.486984     1.486984   \n",
       "2    5.084572     5.271613  15.416697  0.717735    0.0  1.161232     1.486984   \n",
       "3    5.315312     5.084572  15.003735  0.717735    0.0  1.161232     1.486984   \n",
       "4    5.084572     5.593439  16.026454  0.717735    0.0  1.161232     1.486984   \n",
       "\n",
       "   LandSlope  OverallQual  OverallCond          ...            SaleType_ConLw  \\\n",
       "0        0.0            7     1.962312          ...                         0   \n",
       "1        0.0            6     2.457309          ...                         0   \n",
       "2        0.0            7     1.962312          ...                         0   \n",
       "3        0.0            7     1.962312          ...                         0   \n",
       "4        0.0            8     1.962312          ...                         0   \n",
       "\n",
       "   SaleType_New  SaleType_Oth  SaleType_WD  SaleCondition_Abnorml  \\\n",
       "0             0             0            1                      0   \n",
       "1             0             0            1                      0   \n",
       "2             0             0            1                      0   \n",
       "3             0             0            1                      1   \n",
       "4             0             0            1                      0   \n",
       "\n",
       "   SaleCondition_AdjLand  SaleCondition_Alloca  SaleCondition_Family  \\\n",
       "0                      0                     0                     0   \n",
       "1                      0                     0                     0   \n",
       "2                      0                     0                     0   \n",
       "3                      0                     0                     0   \n",
       "4                      0                     0                     0   \n",
       "\n",
       "   SaleCondition_Normal  SaleCondition_Partial  \n",
       "0                     1                      0  \n",
       "1                     1                      0  \n",
       "2                     1                      0  \n",
       "3                     0                      0  \n",
       "4                     1                      0  \n",
       "\n",
       "[5 rows x 211 columns]"
      ]
     },
     "execution_count": 42,
     "metadata": {},
     "output_type": "execute_result"
    }
   ],
   "source": [
    "X.head()"
   ]
  },
  {
   "cell_type": "code",
   "execution_count": 43,
   "metadata": {
    "_uuid": "c707aa1baee3de1c44b34e6afaaa43a49cd15c57"
   },
   "outputs": [
    {
     "data": {
      "text/html": [
       "<div>\n",
       "<style scoped>\n",
       "    .dataframe tbody tr th:only-of-type {\n",
       "        vertical-align: middle;\n",
       "    }\n",
       "\n",
       "    .dataframe tbody tr th {\n",
       "        vertical-align: top;\n",
       "    }\n",
       "\n",
       "    .dataframe thead th {\n",
       "        text-align: right;\n",
       "    }\n",
       "</style>\n",
       "<table border=\"1\" class=\"dataframe\">\n",
       "  <thead>\n",
       "    <tr style=\"text-align: right;\">\n",
       "      <th></th>\n",
       "      <th>MSSubClass</th>\n",
       "      <th>LotFrontage</th>\n",
       "      <th>LotArea</th>\n",
       "      <th>Street</th>\n",
       "      <th>Alley</th>\n",
       "      <th>LotShape</th>\n",
       "      <th>LandContour</th>\n",
       "      <th>LandSlope</th>\n",
       "      <th>OverallQual</th>\n",
       "      <th>OverallCond</th>\n",
       "      <th>...</th>\n",
       "      <th>SaleType_ConLw</th>\n",
       "      <th>SaleType_New</th>\n",
       "      <th>SaleType_Oth</th>\n",
       "      <th>SaleType_WD</th>\n",
       "      <th>SaleCondition_Abnorml</th>\n",
       "      <th>SaleCondition_AdjLand</th>\n",
       "      <th>SaleCondition_Alloca</th>\n",
       "      <th>SaleCondition_Family</th>\n",
       "      <th>SaleCondition_Normal</th>\n",
       "      <th>SaleCondition_Partial</th>\n",
       "    </tr>\n",
       "  </thead>\n",
       "  <tbody>\n",
       "    <tr>\n",
       "      <th>0</th>\n",
       "      <td>3.558821</td>\n",
       "      <td>5.518456</td>\n",
       "      <td>15.499509</td>\n",
       "      <td>0.717735</td>\n",
       "      <td>0.0</td>\n",
       "      <td>1.486984</td>\n",
       "      <td>1.486984</td>\n",
       "      <td>0.0</td>\n",
       "      <td>5</td>\n",
       "      <td>2.148140</td>\n",
       "      <td>...</td>\n",
       "      <td>0</td>\n",
       "      <td>0</td>\n",
       "      <td>0</td>\n",
       "      <td>1</td>\n",
       "      <td>0</td>\n",
       "      <td>0</td>\n",
       "      <td>0</td>\n",
       "      <td>0</td>\n",
       "      <td>1</td>\n",
       "      <td>0</td>\n",
       "    </tr>\n",
       "    <tr>\n",
       "      <th>1</th>\n",
       "      <td>3.558821</td>\n",
       "      <td>5.537509</td>\n",
       "      <td>16.027731</td>\n",
       "      <td>0.717735</td>\n",
       "      <td>0.0</td>\n",
       "      <td>1.161232</td>\n",
       "      <td>1.486984</td>\n",
       "      <td>0.0</td>\n",
       "      <td>6</td>\n",
       "      <td>2.148140</td>\n",
       "      <td>...</td>\n",
       "      <td>0</td>\n",
       "      <td>0</td>\n",
       "      <td>0</td>\n",
       "      <td>1</td>\n",
       "      <td>0</td>\n",
       "      <td>0</td>\n",
       "      <td>0</td>\n",
       "      <td>0</td>\n",
       "      <td>1</td>\n",
       "      <td>0</td>\n",
       "    </tr>\n",
       "    <tr>\n",
       "      <th>2</th>\n",
       "      <td>5.084572</td>\n",
       "      <td>5.399482</td>\n",
       "      <td>15.946893</td>\n",
       "      <td>0.717735</td>\n",
       "      <td>0.0</td>\n",
       "      <td>1.161232</td>\n",
       "      <td>1.486984</td>\n",
       "      <td>0.0</td>\n",
       "      <td>5</td>\n",
       "      <td>1.962312</td>\n",
       "      <td>...</td>\n",
       "      <td>0</td>\n",
       "      <td>0</td>\n",
       "      <td>0</td>\n",
       "      <td>1</td>\n",
       "      <td>0</td>\n",
       "      <td>0</td>\n",
       "      <td>0</td>\n",
       "      <td>0</td>\n",
       "      <td>1</td>\n",
       "      <td>0</td>\n",
       "    </tr>\n",
       "    <tr>\n",
       "      <th>3</th>\n",
       "      <td>5.084572</td>\n",
       "      <td>5.479706</td>\n",
       "      <td>15.113584</td>\n",
       "      <td>0.717735</td>\n",
       "      <td>0.0</td>\n",
       "      <td>1.161232</td>\n",
       "      <td>1.486984</td>\n",
       "      <td>0.0</td>\n",
       "      <td>6</td>\n",
       "      <td>2.148140</td>\n",
       "      <td>...</td>\n",
       "      <td>0</td>\n",
       "      <td>0</td>\n",
       "      <td>0</td>\n",
       "      <td>1</td>\n",
       "      <td>0</td>\n",
       "      <td>0</td>\n",
       "      <td>0</td>\n",
       "      <td>0</td>\n",
       "      <td>1</td>\n",
       "      <td>0</td>\n",
       "    </tr>\n",
       "    <tr>\n",
       "      <th>4</th>\n",
       "      <td>6.153943</td>\n",
       "      <td>4.599745</td>\n",
       "      <td>13.439540</td>\n",
       "      <td>0.717735</td>\n",
       "      <td>0.0</td>\n",
       "      <td>1.161232</td>\n",
       "      <td>0.717735</td>\n",
       "      <td>0.0</td>\n",
       "      <td>8</td>\n",
       "      <td>1.962312</td>\n",
       "      <td>...</td>\n",
       "      <td>0</td>\n",
       "      <td>0</td>\n",
       "      <td>0</td>\n",
       "      <td>1</td>\n",
       "      <td>0</td>\n",
       "      <td>0</td>\n",
       "      <td>0</td>\n",
       "      <td>0</td>\n",
       "      <td>1</td>\n",
       "      <td>0</td>\n",
       "    </tr>\n",
       "  </tbody>\n",
       "</table>\n",
       "<p>5 rows × 211 columns</p>\n",
       "</div>"
      ],
      "text/plain": [
       "   MSSubClass  LotFrontage    LotArea    Street  Alley  LotShape  LandContour  \\\n",
       "0    3.558821     5.518456  15.499509  0.717735    0.0  1.486984     1.486984   \n",
       "1    3.558821     5.537509  16.027731  0.717735    0.0  1.161232     1.486984   \n",
       "2    5.084572     5.399482  15.946893  0.717735    0.0  1.161232     1.486984   \n",
       "3    5.084572     5.479706  15.113584  0.717735    0.0  1.161232     1.486984   \n",
       "4    6.153943     4.599745  13.439540  0.717735    0.0  1.161232     0.717735   \n",
       "\n",
       "   LandSlope  OverallQual  OverallCond          ...            SaleType_ConLw  \\\n",
       "0        0.0            5     2.148140          ...                         0   \n",
       "1        0.0            6     2.148140          ...                         0   \n",
       "2        0.0            5     1.962312          ...                         0   \n",
       "3        0.0            6     2.148140          ...                         0   \n",
       "4        0.0            8     1.962312          ...                         0   \n",
       "\n",
       "   SaleType_New  SaleType_Oth  SaleType_WD  SaleCondition_Abnorml  \\\n",
       "0             0             0            1                      0   \n",
       "1             0             0            1                      0   \n",
       "2             0             0            1                      0   \n",
       "3             0             0            1                      0   \n",
       "4             0             0            1                      0   \n",
       "\n",
       "   SaleCondition_AdjLand  SaleCondition_Alloca  SaleCondition_Family  \\\n",
       "0                      0                     0                     0   \n",
       "1                      0                     0                     0   \n",
       "2                      0                     0                     0   \n",
       "3                      0                     0                     0   \n",
       "4                      0                     0                     0   \n",
       "\n",
       "   SaleCondition_Normal  SaleCondition_Partial  \n",
       "0                     1                      0  \n",
       "1                     1                      0  \n",
       "2                     1                      0  \n",
       "3                     1                      0  \n",
       "4                     1                      0  \n",
       "\n",
       "[5 rows x 211 columns]"
      ]
     },
     "execution_count": 43,
     "metadata": {},
     "output_type": "execute_result"
    }
   ],
   "source": [
    "X_test.head()"
   ]
  },
  {
   "cell_type": "markdown",
   "metadata": {
    "_uuid": "d437d1ca30868fcdd07612d4556830985cbcafa3"
   },
   "source": [
    "**Modelling**\n",
    "\n",
    "*  **Gradient Boosting Regression :-**"
   ]
  },
  {
   "cell_type": "code",
   "execution_count": 44,
   "metadata": {
    "_uuid": "2fde10fadfceb510886729ea0186e78d182e1f12"
   },
   "outputs": [
    {
     "data": {
      "text/plain": [
       "0.11539289722417972"
      ]
     },
     "execution_count": 44,
     "metadata": {},
     "output_type": "execute_result"
    }
   ],
   "source": [
    "#parameters = {'max_depth':[2,3,4],'n_estimators':[2800,3000,3200],'max_features':['sqrt'],'loss':['huber'],'min_samples_leaf':[14,15,16],'min_samples_split':[9,10,11],'random_state':[0]}\n",
    "parameters = {'max_depth':[3],'n_estimators':[3000],'max_features':['sqrt'],'loss':['huber'],'min_samples_leaf':[15],'min_samples_split':[10],'random_state':[0]}\n",
    "model=GridSearchCV(GradientBoostingRegressor(),parameters,scoring='neg_mean_squared_error',cv=KFold(n_splits=7))\n",
    "model.fit(X,Y)\n",
    "Y_test1=model.predict(X_test)\n",
    "Y_test1=np.exp(Y_test1)-1\n",
    "((model.best_score_)*(-1))**0.5"
   ]
  },
  {
   "cell_type": "markdown",
   "metadata": {
    "_uuid": "7c769d835bc9a1581ced1528bfc2ad87f59fa2af"
   },
   "source": [
    "*  **Lasso Regression :-**"
   ]
  },
  {
   "cell_type": "code",
   "execution_count": 45,
   "metadata": {
    "_uuid": "748fb0d37de65d0ef07fba2cb42ed1410b86438c"
   },
   "outputs": [
    {
     "name": "stderr",
     "output_type": "stream",
     "text": [
      "C:\\Users\\Nitin Sharma\\Anaconda3\\lib\\site-packages\\sklearn\\linear_model\\coordinate_descent.py:491: ConvergenceWarning: Objective did not converge. You might want to increase the number of iterations. Fitting data with very small alpha may cause precision problems.\n",
      "  ConvergenceWarning)\n"
     ]
    },
    {
     "name": "stdout",
     "output_type": "stream",
     "text": [
      "0.10884620783962475\n"
     ]
    }
   ],
   "source": [
    "model=make_pipeline(RobustScaler(),Lasso(0.0004,random_state=0))\n",
    "rmslerror=(-cross_val_score(model,X,Y,scoring='neg_mean_squared_error',cv=KFold(n_splits=7)))**0.5\n",
    "print(rmslerror.mean())\n",
    "model.fit(X,Y)\n",
    "Y_test2=np.expm1(model.predict(X_test))"
   ]
  },
  {
   "cell_type": "markdown",
   "metadata": {
    "_uuid": "d5a7643dc673275fd6adf9e899d541b71390dc07"
   },
   "source": [
    "In next step we will take mean of the above models, advantage of taking mean is that error in one model is compensated by other model."
   ]
  },
  {
   "cell_type": "code",
   "execution_count": 46,
   "metadata": {
    "_uuid": "236eb69924707f39914298a4e34e4a0d50881527"
   },
   "outputs": [],
   "source": [
    "Y_test=(Y_test1+Y_test2)/2\n",
    "submission=pd.DataFrame({'Id':range(1461,2920),'SalePrice':Y_test})\n",
    "submission.to_csv('submit.csv',index=False)"
   ]
  },
  {
   "cell_type": "markdown",
   "metadata": {
    "_uuid": "52bd85da3f734ebdcc2c3e72e9033e6a8253e546"
   },
   "source": [
    "Any suggestions are welcome.\n",
    "\n",
    "***Thank You!***"
   ]
  }
 ],
 "metadata": {
  "kernelspec": {
   "display_name": "Python 3",
   "language": "python",
   "name": "python3"
  },
  "language_info": {
   "codemirror_mode": {
    "name": "ipython",
    "version": 3
   },
   "file_extension": ".py",
   "mimetype": "text/x-python",
   "name": "python",
   "nbconvert_exporter": "python",
   "pygments_lexer": "ipython3",
   "version": "3.6.5"
  }
 },
 "nbformat": 4,
 "nbformat_minor": 1
}
